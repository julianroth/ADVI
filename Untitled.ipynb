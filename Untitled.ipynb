{
 "cells": [
  {
   "cell_type": "code",
   "execution_count": 1,
   "metadata": {},
   "outputs": [],
   "source": [
    "import tensorflow as tf\n",
    "import tensorflow_probability as tfp\n",
    "import numpy as np\n",
    "from models.ard import joint_log_prob, return_initial_state, sep_params, log_likelihood\n",
    "# NEXT TO DO MUST CHANGE INITAL CHAIN STATES TO SAMPLE FROM DISTRIBUTION\n",
    "# Target distribution is proportional to: `exp(-x (1 + x))`.\n",
    "\n",
    "# Initialize the HMC transition kernel.\n",
    "\n"
   ]
  },
  {
   "cell_type": "code",
   "execution_count": 2,
   "metadata": {},
   "outputs": [
    {
     "name": "stdout",
     "output_type": "stream",
     "text": [
      "y shape (1, 100)\n",
      "x shape (10, 100)\n",
      "w shape (1, 10)\n"
     ]
    }
   ],
   "source": [
    "def make_training_data(num_samples, dims, sigma):\n",
    "  x = np.random.randn(dims, num_samples).astype(np.float64)\n",
    "  w = sigma * np.random.randn(1, dims).astype(np.float64)\n",
    "  noise = np.random.randn(num_samples).astype(np.float64)\n",
    "  y = w.dot(x) + noise\n",
    "  return y, x, w\n",
    "\n",
    "def sep_training_test(y,x, test):\n",
    "  y_train = y[:,test:]\n",
    "  x_train = x[:,test:]\n",
    "  \n",
    "  y_test = y[:,:test]\n",
    "  x_test = x[:,:test]\n",
    "  return y_train, y_test, x_train, x_test\n",
    "\n",
    "\n",
    "y, x, w = make_training_data(100, 10, 2)\n",
    "print(\"y shape\", y.shape)\n",
    "print(\"x shape\", x.shape)\n",
    "print(\"w shape\", w.shape)\n",
    "summary_writer = tf.compat.v2.summary.create_file_writer('/tmp/summary_chain', flush_millis=10000)"
   ]
  },
  {
   "cell_type": "code",
   "execution_count": 3,
   "metadata": {},
   "outputs": [
    {
     "name": "stdout",
     "output_type": "stream",
     "text": [
      "(1, 90)\n",
      "(1, 10)\n",
      "(10, 90)\n",
      "(10, 10)\n"
     ]
    }
   ],
   "source": [
    "y_train, y_test, x_train, x_test = sep_training_test(y,x,10)\n",
    "print(y_train.shape)\n",
    "print(y_test.shape)\n",
    "print(x_train.shape)\n",
    "print(x_test.shape)\n",
    "\n"
   ]
  },
  {
   "cell_type": "code",
   "execution_count": 4,
   "metadata": {},
   "outputs": [],
   "source": [
    "def trace_fn(state, results):\n",
    "  with tf.compat.v2.summary.record_if(tf.equal(results.step % 10, 0)):\n",
    "    tf.compat.v2.summary.scalar(\"state\", log_likelihood(y_test, x_test, state), step=tf.cast(results.step, tf.int64))\n",
    "    return ()"
   ]
  },
  {
   "cell_type": "code",
   "execution_count": 5,
   "metadata": {},
   "outputs": [],
   "source": [
    "initial_chain_state = return_initial_state(10)\n",
    "joint_log_prob2 = lambda *args: joint_log_prob(y_train, x_train, *args)\n",
    "num_results = int(10e3)\n",
    "num_burnin_steps = int(1e3)\n",
    "adaptive_hmc = tfp.mcmc.SimpleStepSizeAdaptation(\n",
    "    tfp.mcmc.HamiltonianMonteCarlo(\n",
    "        target_log_prob_fn=joint_log_prob2,\n",
    "        num_leapfrog_steps=3,\n",
    "        step_size=1.),\n",
    "    num_adaptation_steps=int(num_burnin_steps * 0.8))\n",
    "\n",
    "nuts = tfp.mcmc.NoUTurnSampler(\n",
    "    target_log_prob_fn=joint_log_prob2, step_size=1., max_tree_depth=10, max_energy_diff=1000.0,\n",
    "    unrolled_leapfrog_steps=1, parallel_iterations=10, seed=None, name=None\n",
    ")\n",
    "\n",
    "@tf.function\n",
    "def run_chain():\n",
    "  print(\"running chain\")\n",
    "  # Run the chain (with burn-in).\n",
    "  states, is_accepted = tfp.mcmc.sample_chain(\n",
    "      num_results=num_results,\n",
    "      num_burnin_steps=num_burnin_steps,\n",
    "      current_state=initial_chain_state,\n",
    "      kernel=adaptive_hmc,\n",
    "    trace_fn=trace_fn)\n",
    "  return states, is_accepted\n",
    "\n",
    "def run_chain_nuts():\n",
    "  print(\"running chain\")\n",
    "  # Run the chain (with burn-in).\n",
    "  states, is_accepted = tfp.mcmc.sample_chain(\n",
    "      num_results=20,\n",
    "      num_burnin_steps=num_burnin_steps,\n",
    "      current_state=initial_chain_state,\n",
    "      kernel=nuts)\n",
    "  return states, is_accepted"
   ]
  },
  {
   "cell_type": "code",
   "execution_count": null,
   "metadata": {},
   "outputs": [],
   "source": []
  },
  {
   "cell_type": "code",
   "execution_count": 6,
   "metadata": {},
   "outputs": [
    {
     "name": "stdout",
     "output_type": "stream",
     "text": [
      "running chain\n",
      "log likelihood Tensor(\"mcmc_sample_chain/trace_scan/Sum:0\", shape=(), dtype=float64)\n",
      "log likelihood Tensor(\"Sum:0\", shape=(), dtype=float64)\n",
      "()\n",
      "states shape (10000, 21)\n",
      "log likelihood tf.Tensor(-17.48437863036713, shape=(), dtype=float64)\n"
     ]
    }
   ],
   "source": [
    "with summary_writer.as_default():\n",
    "  states, is_accepted = run_chain()\n",
    "summary_writer.close()\n",
    "print(is_accepted)\n",
    "\n",
    "print(\"states shape\", states.shape)\n",
    "sample_mean = tf.reduce_mean(states, axis=[0])\n",
    "log_like_fin = log_likelihood(y_test, x_test, sample_mean)\n"
   ]
  },
  {
   "cell_type": "code",
   "execution_count": 7,
   "metadata": {},
   "outputs": [
    {
     "name": "stdout",
     "output_type": "stream",
     "text": [
      "log likelihood tf.Tensor(\n",
      "[[-3.29720222 -2.46990638 -1.00128877 -0.94285252 -1.00061848 -1.91935196\n",
      "  -1.60933816 -1.55753634 -1.04022618 -2.64605762]], shape=(1, 10), dtype=float64)\n"
     ]
    }
   ],
   "source": [
    "from models.ard import log_likelihood2\n",
    "a = log_likelihood2(y_test, x_test, sample_mean)"
   ]
  }
 ],
 "metadata": {
  "kernelspec": {
   "display_name": "Python 3",
   "language": "python",
   "name": "python3"
  },
  "language_info": {
   "codemirror_mode": {
    "name": "ipython",
    "version": 3
   },
   "file_extension": ".py",
   "mimetype": "text/x-python",
   "name": "python",
   "nbconvert_exporter": "python",
   "pygments_lexer": "ipython3",
   "version": "3.7.6"
  }
 },
 "nbformat": 4,
 "nbformat_minor": 4
}
