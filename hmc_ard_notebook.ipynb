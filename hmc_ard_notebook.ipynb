{
 "cells": [
  {
   "cell_type": "code",
   "execution_count": 1,
   "metadata": {},
   "outputs": [
    {
     "name": "stderr",
     "output_type": "stream",
     "text": [
      "/anaconda/lib/python2.7/site-packages/h5py/__init__.py:34: FutureWarning: Conversion of the second argument of issubdtype from `float` to `np.floating` is deprecated. In future, it will be treated as `np.float64 == np.dtype(float).type`.\n",
      "  from ._conv import register_converters as _register_converters\n"
     ]
    }
   ],
   "source": [
    "import tensorflow as tf\n",
    "import tensorflow_probability as tfp\n",
    "import numpy as np\n",
    "from advi.model import ADVIModel\n",
    "from models.ard import Ard\n",
    "from models.ard import sep_params\n",
    "#from models.ard import joint_log_prob, return_initial_state, sep_params, log_likelihood, some_kind_of_loss\n",
    "# NEXT TO DO MUST CHANGE INITAL CHAIN STATES TO SAMPLE FROM DISTRIBUTION\n",
    "# Target distribution is proportional to: `exp(-x (1 + x))`.\n",
    "\n",
    "# Initialize the HMC transition kernel.\n",
    "\n"
   ]
  },
  {
   "cell_type": "code",
   "execution_count": 2,
   "metadata": {},
   "outputs": [
    {
     "name": "stdout",
     "output_type": "stream",
     "text": [
      "('y shape', (1, 200))\n",
      "('x shape', (250, 200))\n",
      "('w shape', (1, 250))\n"
     ]
    }
   ],
   "source": [
    "def make_training_data(num_samples, dims, sigma):\n",
    "  x = np.random.randn(dims, num_samples).astype(np.float64)\n",
    "  w = sigma * np.random.randn(1, dims).astype(np.float64)\n",
    "  noise = np.random.randn(num_samples).astype(np.float64)\n",
    "  w[:,:int(dims/2)] = 0\n",
    "  y = w.dot(x) + noise\n",
    "    \n",
    "  return y, x, w\n",
    "\n",
    "def sep_training_test(y,x,test):\n",
    "  y_train = y[:,test:]\n",
    "  x_train = x[:,test:]\n",
    "  \n",
    "  y_test = y[:,:test]\n",
    "  x_test = x[:,:test]\n",
    "  return y_train, y_test, x_train, x_test\n",
    "num_features = 250\n",
    "\n",
    "y, x, w = make_training_data(200, num_features, 2)\n",
    "print(\"y shape\", y.shape)\n",
    "print(\"x shape\", x.shape)\n",
    "print(\"w shape\", w.shape)\n"
   ]
  },
  {
   "cell_type": "code",
   "execution_count": 3,
   "metadata": {},
   "outputs": [
    {
     "name": "stdout",
     "output_type": "stream",
     "text": [
      "(1, 150)\n",
      "(1, 50)\n",
      "(250, 150)\n",
      "(250, 50)\n"
     ]
    }
   ],
   "source": [
    "y_train, y_test, x_train, x_test = sep_training_test(y,x,50)\n",
    "print(y_train.shape)\n",
    "print(y_test.shape)\n",
    "print(x_train.shape)\n",
    "print(x_test.shape)\n",
    "\n"
   ]
  },
  {
   "cell_type": "code",
   "execution_count": 4,
   "metadata": {},
   "outputs": [],
   "source": [
    "model = Ard(num_features)\n",
    "initial_chain_state = model.return_initial_state()\n",
    "wstart, tau, alpha = sep_params(initial_chain_state, num_features)\n"
   ]
  },
  {
   "cell_type": "code",
   "execution_count": 5,
   "metadata": {},
   "outputs": [
    {
     "data": {
      "text/plain": [
       "<tf.Tensor: shape=(), dtype=float64, numpy=4062.9023260231247>"
      ]
     },
     "execution_count": 5,
     "metadata": {},
     "output_type": "execute_result"
    }
   ],
   "source": [
    "def state_to_log_pred(states, y_test, x_test):\n",
    "    sample_mean = tf.reduce_mean(states, axis=[0])\n",
    "    return model.log_likelihood(y_test, x_test, states)\n",
    "\n",
    "def state_to_loss(states, y_test, x_test):\n",
    "    sample_mean = tf.reduce_mean(states, axis=[0])\n",
    "    w, _, _ = sep_params(states, num_features)\n",
    "    return model.some_kind_of_loss(y_test, x_test, w)\n",
    "\n",
    "state_to_loss(initial_chain_state, y_test, x_test)"
   ]
  },
  {
   "cell_type": "code",
   "execution_count": 6,
   "metadata": {
    "collapsed": true
   },
   "outputs": [],
   "source": [
    "summary_writer = tf.compat.v2.summary.create_file_writer('/tmp/summary_chain', flush_millis=10000)\n",
    "def trace_fn(state, results):\n",
    "  with tf.compat.v2.summary.record_if(tf.equal(results.step % 10, 0)):\n",
    "    tf.compat.v2.summary.scalar(\"loss\", state_to_loss(state, y_test, x_test), step=tf.cast(results.step, tf.int64))\n",
    "    tf.compat.v2.summary.scalar(\"log pred\", state_to_log_pred(state, y_test, x_test), step=tf.cast(results.step, tf.int64))\n",
    "    return ()"
   ]
  },
  {
   "cell_type": "code",
   "execution_count": null,
   "metadata": {
    "collapsed": true
   },
   "outputs": [],
   "source": []
  },
  {
   "cell_type": "code",
   "execution_count": 7,
   "metadata": {
    "collapsed": true
   },
   "outputs": [],
   "source": [
    "num_results = int(10000)\n",
    "num_burnin_steps = int(800)\n",
    "adaptive_hmc = tfp.mcmc.SimpleStepSizeAdaptation(\n",
    "    tfp.mcmc.HamiltonianMonteCarlo(\n",
    "        target_log_prob_fn=model.joint_log_prob,\n",
    "        num_leapfrog_steps=3,\n",
    "        step_size=0.1),\n",
    "    num_adaptation_steps=int(num_burnin_steps * 0.8))\n",
    "\n",
    "nuts = tfp.mcmc.NoUTurnSampler(\n",
    "    target_log_prob_fn=model.joint_log_prob, step_size=1., max_tree_depth=10, max_energy_diff=1000.0,\n",
    "    unrolled_leapfrog_steps=1, parallel_iterations=10, seed=None, name=None)"
   ]
  },
  {
   "cell_type": "markdown",
   "metadata": {},
   "source": [
    "@tf.function\n",
    "def run_chain():\n",
    "  print(\"running chain\")\n",
    "  # Run the chain (with burn-in).\n",
    "  states, is_accepted = tfp.mcmc.sample_chain(\n",
    "      num_results=num_results,\n",
    "      num_burnin_steps=num_burnin_steps,\n",
    "      current_state=initial_chain_state,\n",
    "      kernel=adaptive_hmc,\n",
    "    trace_fn=trace_fn)\n",
    "  return states, is_accepted\n",
    "\n",
    "    "
   ]
  },
  {
   "cell_type": "markdown",
   "metadata": {},
   "source": [
    "@tf.function\n",
    "def run_chain_nuts():\n",
    "  print(\"running chain\")\n",
    "  # Run the chain (with burn-in).\n",
    "  states, is_accepted = tfp.mcmc.sample_chain(\n",
    "      num_results=20,\n",
    "      num_burnin_steps=num_burnin_steps,\n",
    "      current_state=initial_chain_state,\n",
    "      kernel=nuts)\n",
    "  return states, is_accepted"
   ]
  },
  {
   "cell_type": "code",
   "execution_count": null,
   "metadata": {},
   "outputs": [],
   "source": [
    "def run_advi(nsteps, step_size, dim, log_prob, bijector,m):\n",
    "    advi = ADVIModel(dim, log_prob, bijector,m)\n",
    "    for t in range(nsteps):\n",
    "        grad_mu, grad_omega = advi.gradients()\n",
    "        advi.mu = tf.add(advi.mu, step_size * grad_mu)\n",
    "        advi.omega = tf.add(advi.omega, step_size * grad_omega)\n",
    "        if(t%1 == 0):\n",
    "            theta_intermediate = advi.sample()\n",
    "            theta_intermediate = tf.squeeze(theta_intermediate)\n",
    "            w, _, _ = sep_params(theta_intermediate, num_features)\n",
    "            loss = model.some_kind_of_loss(y_test, x_test, w)\n",
    "            likelihood = model.log_likelihood(y_test, x_test, theta_intermediate)\n",
    "            #print(\"loss\", loss)\n",
    "            print(\"likelihood\", likelihood)\n",
    "        \n",
    "    # sample from eta distribution currently just once,\n",
    "    # using current values of mu and sigma to return trained params theta\n",
    "    theta = advi.sample()\n",
    "    return theta"
   ]
  },
  {
   "cell_type": "code",
   "execution_count": null,
   "metadata": {},
   "outputs": [
    {
     "name": "stdout",
     "output_type": "stream",
     "text": [
      "('likelihood', <tf.Tensor: shape=(), dtype=float64, numpy=-325.75081402814277>)\n",
      "('likelihood', <tf.Tensor: shape=(), dtype=float64, numpy=-308.38231124036423>)\n",
      "('likelihood', <tf.Tensor: shape=(), dtype=float64, numpy=-300.41301657159636>)\n",
      "('likelihood', <tf.Tensor: shape=(), dtype=float64, numpy=-294.5950172860092>)\n",
      "('likelihood', <tf.Tensor: shape=(), dtype=float64, numpy=-290.78106512500057>)\n",
      "('likelihood', <tf.Tensor: shape=(), dtype=float64, numpy=-285.1858858806987>)\n",
      "('likelihood', <tf.Tensor: shape=(), dtype=float64, numpy=-282.2613830183094>)\n",
      "('likelihood', <tf.Tensor: shape=(), dtype=float64, numpy=-286.8802385058618>)\n",
      "('likelihood', <tf.Tensor: shape=(), dtype=float64, numpy=-279.14968789925086>)\n",
      "('likelihood', <tf.Tensor: shape=(), dtype=float64, numpy=-276.21205757406585>)\n",
      "('likelihood', <tf.Tensor: shape=(), dtype=float64, numpy=-280.6932262556765>)\n",
      "('likelihood', <tf.Tensor: shape=(), dtype=float64, numpy=-273.9422769508329>)\n",
      "('likelihood', <tf.Tensor: shape=(), dtype=float64, numpy=-271.78025832089634>)\n",
      "('likelihood', <tf.Tensor: shape=(), dtype=float64, numpy=-269.9348097299307>)\n",
      "('likelihood', <tf.Tensor: shape=(), dtype=float64, numpy=-267.8576838678937>)\n",
      "('likelihood', <tf.Tensor: shape=(), dtype=float64, numpy=-268.6416413401145>)\n",
      "('likelihood', <tf.Tensor: shape=(), dtype=float64, numpy=-266.93694818955754>)\n",
      "('likelihood', <tf.Tensor: shape=(), dtype=float64, numpy=-265.78541753001895>)\n",
      "('likelihood', <tf.Tensor: shape=(), dtype=float64, numpy=-283.2944484964378>)\n",
      "('likelihood', <tf.Tensor: shape=(), dtype=float64, numpy=-266.2027646492633>)\n",
      "('likelihood', <tf.Tensor: shape=(), dtype=float64, numpy=-269.0443766007949>)\n",
      "('likelihood', <tf.Tensor: shape=(), dtype=float64, numpy=-265.7315042873697>)\n",
      "('likelihood', <tf.Tensor: shape=(), dtype=float64, numpy=-265.96330977337095>)\n",
      "('likelihood', <tf.Tensor: shape=(), dtype=float64, numpy=-260.8215599162123>)\n",
      "('likelihood', <tf.Tensor: shape=(), dtype=float64, numpy=-263.0882359773016>)\n",
      "('likelihood', <tf.Tensor: shape=(), dtype=float64, numpy=-271.1492263795785>)\n",
      "('likelihood', <tf.Tensor: shape=(), dtype=float64, numpy=-262.48012638708434>)\n",
      "('likelihood', <tf.Tensor: shape=(), dtype=float64, numpy=-261.93250185370675>)\n",
      "('likelihood', <tf.Tensor: shape=(), dtype=float64, numpy=-262.6849573226807>)\n",
      "('likelihood', <tf.Tensor: shape=(), dtype=float64, numpy=-255.62688320299694>)\n",
      "('likelihood', <tf.Tensor: shape=(), dtype=float64, numpy=-283.81894400865895>)\n",
      "('likelihood', <tf.Tensor: shape=(), dtype=float64, numpy=-262.3624842122537>)\n",
      "('likelihood', <tf.Tensor: shape=(), dtype=float64, numpy=-254.00570958023746>)\n",
      "('likelihood', <tf.Tensor: shape=(), dtype=float64, numpy=-257.2905104014893>)\n",
      "('likelihood', <tf.Tensor: shape=(), dtype=float64, numpy=-256.26983577690055>)\n",
      "('likelihood', <tf.Tensor: shape=(), dtype=float64, numpy=-261.9141870941294>)\n",
      "('likelihood', <tf.Tensor: shape=(), dtype=float64, numpy=-259.6160901064713>)\n",
      "('likelihood', <tf.Tensor: shape=(), dtype=float64, numpy=-257.2161900687919>)\n",
      "('likelihood', <tf.Tensor: shape=(), dtype=float64, numpy=-260.64559884417787>)\n",
      "('likelihood', <tf.Tensor: shape=(), dtype=float64, numpy=-255.92720056155883>)\n",
      "('likelihood', <tf.Tensor: shape=(), dtype=float64, numpy=-250.88631804572304>)\n",
      "('likelihood', <tf.Tensor: shape=(), dtype=float64, numpy=-255.33440576668556>)\n",
      "('likelihood', <tf.Tensor: shape=(), dtype=float64, numpy=-258.8784798460753>)\n",
      "('likelihood', <tf.Tensor: shape=(), dtype=float64, numpy=-259.63582120368056>)\n",
      "('likelihood', <tf.Tensor: shape=(), dtype=float64, numpy=-261.37799992907895>)\n",
      "('likelihood', <tf.Tensor: shape=(), dtype=float64, numpy=-260.76709429989324>)\n",
      "('likelihood', <tf.Tensor: shape=(), dtype=float64, numpy=-251.16038932493228>)\n",
      "('likelihood', <tf.Tensor: shape=(), dtype=float64, numpy=-253.2049178668372>)\n",
      "('likelihood', <tf.Tensor: shape=(), dtype=float64, numpy=-264.0045522263025>)\n",
      "('likelihood', <tf.Tensor: shape=(), dtype=float64, numpy=-266.2761073665413>)\n",
      "('likelihood', <tf.Tensor: shape=(), dtype=float64, numpy=-257.0454758999227>)\n",
      "('likelihood', <tf.Tensor: shape=(), dtype=float64, numpy=-248.43489930196586>)\n",
      "('likelihood', <tf.Tensor: shape=(), dtype=float64, numpy=-265.97703254335346>)\n",
      "('likelihood', <tf.Tensor: shape=(), dtype=float64, numpy=-245.3679437636557>)\n",
      "('likelihood', <tf.Tensor: shape=(), dtype=float64, numpy=-252.33986677444037>)\n",
      "('likelihood', <tf.Tensor: shape=(), dtype=float64, numpy=-250.08903061830253>)\n",
      "('likelihood', <tf.Tensor: shape=(), dtype=float64, numpy=-256.2430988848373>)\n",
      "('likelihood', <tf.Tensor: shape=(), dtype=float64, numpy=-245.09041744894182>)\n",
      "('likelihood', <tf.Tensor: shape=(), dtype=float64, numpy=-285.1009382169446>)\n",
      "('likelihood', <tf.Tensor: shape=(), dtype=float64, numpy=-247.0229304743559>)\n",
      "('likelihood', <tf.Tensor: shape=(), dtype=float64, numpy=-259.5163829266146>)\n",
      "('likelihood', <tf.Tensor: shape=(), dtype=float64, numpy=-252.74397911476456>)\n",
      "('likelihood', <tf.Tensor: shape=(), dtype=float64, numpy=-256.29769382264465>)\n",
      "('likelihood', <tf.Tensor: shape=(), dtype=float64, numpy=-253.8853523040216>)\n",
      "('likelihood', <tf.Tensor: shape=(), dtype=float64, numpy=-248.83290619596957>)\n",
      "('likelihood', <tf.Tensor: shape=(), dtype=float64, numpy=-254.87750320753338>)\n",
      "('likelihood', <tf.Tensor: shape=(), dtype=float64, numpy=-253.08010948958227>)\n",
      "('likelihood', <tf.Tensor: shape=(), dtype=float64, numpy=-258.0492938494042>)\n",
      "('likelihood', <tf.Tensor: shape=(), dtype=float64, numpy=-250.62424834230495>)\n",
      "('likelihood', <tf.Tensor: shape=(), dtype=float64, numpy=-263.2321852448901>)\n",
      "('likelihood', <tf.Tensor: shape=(), dtype=float64, numpy=-267.3798297255504>)\n",
      "('likelihood', <tf.Tensor: shape=(), dtype=float64, numpy=-248.74851985496784>)\n",
      "('likelihood', <tf.Tensor: shape=(), dtype=float64, numpy=-254.1077033792779>)\n",
      "('likelihood', <tf.Tensor: shape=(), dtype=float64, numpy=-258.5948825488145>)\n",
      "('likelihood', <tf.Tensor: shape=(), dtype=float64, numpy=-279.2795004991646>)\n",
      "('likelihood', <tf.Tensor: shape=(), dtype=float64, numpy=-261.7761917556387>)\n",
      "('likelihood', <tf.Tensor: shape=(), dtype=float64, numpy=-258.04027440938>)\n",
      "('likelihood', <tf.Tensor: shape=(), dtype=float64, numpy=-248.2563050526321>)\n",
      "('likelihood', <tf.Tensor: shape=(), dtype=float64, numpy=-256.096961727772>)\n",
      "('likelihood', <tf.Tensor: shape=(), dtype=float64, numpy=-254.78297280833624>)\n",
      "('likelihood', <tf.Tensor: shape=(), dtype=float64, numpy=-263.4502270230455>)\n",
      "('likelihood', <tf.Tensor: shape=(), dtype=float64, numpy=-265.136492457193>)\n",
      "('likelihood', <tf.Tensor: shape=(), dtype=float64, numpy=-249.70361057740146>)\n",
      "('likelihood', <tf.Tensor: shape=(), dtype=float64, numpy=-272.16198655486454>)\n",
      "('likelihood', <tf.Tensor: shape=(), dtype=float64, numpy=-254.2944599809484>)\n",
      "('likelihood', <tf.Tensor: shape=(), dtype=float64, numpy=-259.62144895049227>)\n",
      "('likelihood', <tf.Tensor: shape=(), dtype=float64, numpy=-243.46066415069976>)\n",
      "('likelihood', <tf.Tensor: shape=(), dtype=float64, numpy=-257.36564660562874>)\n"
     ]
    }
   ],
   "source": [
    "joint_log_prob2 = lambda *args: model.joint_log_prob(y_train, x_train, *args)\n",
    "target = model.joint_log_prob\n",
    "bij = tfp.bijectors.Log()\n",
    "theta = run_advi(1000,0.00001,\n",
    "                 model.num_params,\n",
    "                 joint_log_prob2, bij,\n",
    "                 10)"
   ]
  },
  {
   "cell_type": "code",
   "execution_count": null,
   "metadata": {},
   "outputs": [],
   "source": [
    "\n",
    "start_loss = state_to_loss(initial_chain_state, y_test, x_test)\n",
    "print(\"start loss\", start_loss)\n",
    "print(\"theta\", theta.shape)\n",
    "theta = tf.squeeze(theta)\n",
    "w, _, _ = sep_params(theta, num_features)\n",
    "loss = model.some_kind_of_loss(y_test, x_test, w)\n",
    "\n",
    "print(\"loss\", loss)\n",
    "\n"
   ]
  },
  {
   "cell_type": "code",
   "execution_count": null,
   "metadata": {},
   "outputs": [],
   "source": [
    "initial_chain_state = return_initial_state(num_features)\n",
    "sample_mean = tf.reduce_mean(states, axis=[0])\n",
    "wend, alpha, tau = sep_params(sample_mean, num_features)\n",
    "\n",
    "print(\"start\", wstart)\n",
    "loss_start = some_kind_of_loss(wstarty_test, x_test, )\n",
    "print(\"loss start\", loss_start)\n",
    "\n",
    "print(\"actual\",w)\n",
    "print(\"end\", wend)\n",
    "print(\"start\", wstart)\n",
    "loss_end = some_kind_of_loss(wend,y_test, x_test, )\n",
    "print(\"loss start\", loss_start)\n",
    "print(\"loss end\", loss_end)\n"
   ]
  },
  {
   "cell_type": "code",
   "execution_count": null,
   "metadata": {},
   "outputs": [],
   "source": [
    "sample_mean = tf.reduce_mean(states, axis=[0])\n",
    "wend, alpha, tau = sep_params(sample_mean, num_features)\n",
    "\n"
   ]
  }
 ],
 "metadata": {
  "kernelspec": {
   "display_name": "Python 2",
   "language": "python",
   "name": "python2"
  },
  "language_info": {
   "codemirror_mode": {
    "name": "ipython",
    "version": 2
   },
   "file_extension": ".py",
   "mimetype": "text/x-python",
   "name": "python",
   "nbconvert_exporter": "python",
   "pygments_lexer": "ipython2",
   "version": "2.7.13"
  }
 },
 "nbformat": 4,
 "nbformat_minor": 4
}
