{
 "cells": [
  {
   "cell_type": "code",
   "execution_count": 1,
   "metadata": {},
   "outputs": [
    {
     "name": "stderr",
     "output_type": "stream",
     "text": [
      "/anaconda/lib/python2.7/site-packages/h5py/__init__.py:34: FutureWarning: Conversion of the second argument of issubdtype from `float` to `np.floating` is deprecated. In future, it will be treated as `np.float64 == np.dtype(float).type`.\n",
      "  from ._conv import register_converters as _register_converters\n"
     ]
    }
   ],
   "source": [
    "import tensorflow as tf\n",
    "import tensorflow_probability as tfp\n",
    "import numpy as np\n",
    "from advi.model import ADVIModel\n",
    "from models.ard import Ard\n",
    "from models.ard import sep_params\n",
    "#from models.ard import joint_log_prob, return_initial_state, sep_params, log_likelihood, some_kind_of_loss\n",
    "# NEXT TO DO MUST CHANGE INITAL CHAIN STATES TO SAMPLE FROM DISTRIBUTION\n",
    "# Target distribution is proportional to: `exp(-x (1 + x))`.\n",
    "\n",
    "# Initialize the HMC transition kernel.\n",
    "\n"
   ]
  },
  {
   "cell_type": "code",
   "execution_count": 2,
   "metadata": {},
   "outputs": [
    {
     "name": "stdout",
     "output_type": "stream",
     "text": [
      "('y shape', (1, 100))\n",
      "('x shape', (100, 100))\n",
      "('w shape', (1, 100))\n"
     ]
    }
   ],
   "source": [
    "def make_training_data(num_samples, dims, sigma):\n",
    "  x = np.random.randn(dims, num_samples).astype(np.float64)\n",
    "  w = sigma * np.random.randn(1, dims).astype(np.float64)\n",
    "  noise = np.random.randn(num_samples).astype(np.float64)\n",
    "  w[:,:int(dims/2)] = 0\n",
    "  y = w.dot(x) + noise\n",
    "    \n",
    "  return y, x, w\n",
    "\n",
    "def sep_training_test(y,x,test):\n",
    "  y_train = y[:,test:]\n",
    "  x_train = x[:,test:]\n",
    "  \n",
    "  y_test = y[:,:test]\n",
    "  x_test = x[:,:test]\n",
    "  return y_train, y_test, x_train, x_test\n",
    "num_features = 250\n",
    "\n",
    "y, x, w = make_training_data(100, num_features, 2)\n",
    "print(\"y shape\", y.shape)\n",
    "print(\"x shape\", x.shape)\n",
    "print(\"w shape\", w.shape)\n"
   ]
  },
  {
   "cell_type": "code",
   "execution_count": 3,
   "metadata": {},
   "outputs": [
    {
     "name": "stdout",
     "output_type": "stream",
     "text": [
      "(1, 0)\n",
      "(1, 100)\n",
      "(100, 0)\n",
      "(100, 100)\n"
     ]
    }
   ],
   "source": [
    "y_train, y_test, x_train, x_test = sep_training_test(y,x,100)\n",
    "print(y_train.shape)\n",
    "print(y_test.shape)\n",
    "print(x_train.shape)\n",
    "print(x_test.shape)\n",
    "\n"
   ]
  },
  {
   "cell_type": "code",
   "execution_count": 4,
   "metadata": {},
   "outputs": [],
   "source": [
    "model = Ard(num_features)\n",
    "initial_chain_state = model.return_initial_state()\n",
    "wstart, tau, alpha = sep_params(initial_chain_state, num_features)\n"
   ]
  },
  {
   "cell_type": "code",
   "execution_count": 5,
   "metadata": {},
   "outputs": [
    {
     "data": {
      "text/plain": [
       "<tf.Tensor: shape=(), dtype=float64, numpy=1722.13164629823>"
      ]
     },
     "execution_count": 5,
     "metadata": {},
     "output_type": "execute_result"
    }
   ],
   "source": [
    "def state_to_log_pred(states, y_test, x_test):\n",
    "    sample_mean = tf.reduce_mean(states, axis=[0])\n",
    "    return model.log_likelihood(y_test, x_test, states)\n",
    "\n",
    "def state_to_loss(states, y_test, x_test):\n",
    "    sample_mean = tf.reduce_mean(states, axis=[0])\n",
    "    w, _, _ = sep_params(states, num_features)\n",
    "    return model.some_kind_of_loss(y_test, x_test, w)\n",
    "\n",
    "state_to_loss(initial_chain_state, y_test, x_test)"
   ]
  },
  {
   "cell_type": "code",
   "execution_count": 6,
   "metadata": {
    "collapsed": true
   },
   "outputs": [],
   "source": [
    "summary_writer = tf.compat.v2.summary.create_file_writer('/tmp/summary_chain', flush_millis=10000)\n",
    "def trace_fn(state, results):\n",
    "  with tf.compat.v2.summary.record_if(tf.equal(results.step % 10, 0)):\n",
    "    tf.compat.v2.summary.scalar(\"loss\", state_to_loss(state, y_test, x_test), step=tf.cast(results.step, tf.int64))\n",
    "    tf.compat.v2.summary.scalar(\"log pred\", state_to_log_pred(state, y_test, x_test), step=tf.cast(results.step, tf.int64))\n",
    "    return ()"
   ]
  },
  {
   "cell_type": "code",
   "execution_count": 7,
   "metadata": {
    "collapsed": true
   },
   "outputs": [],
   "source": [
    "num_results = int(10000)\n",
    "num_burnin_steps = int(800)\n",
    "adaptive_hmc = tfp.mcmc.SimpleStepSizeAdaptation(\n",
    "    tfp.mcmc.HamiltonianMonteCarlo(\n",
    "        target_log_prob_fn=model.joint_log_prob,\n",
    "        num_leapfrog_steps=3,\n",
    "        step_size=0.1),\n",
    "    num_adaptation_steps=int(num_burnin_steps * 0.8))\n",
    "\n",
    "nuts = tfp.mcmc.NoUTurnSampler(\n",
    "    target_log_prob_fn=model.joint_log_prob, step_size=1., max_tree_depth=10, max_energy_diff=1000.0,\n",
    "    unrolled_leapfrog_steps=1, parallel_iterations=10, seed=None, name=None)"
   ]
  },
  {
   "cell_type": "code",
   "execution_count": 8,
   "metadata": {
    "collapsed": true
   },
   "outputs": [],
   "source": [
    "def run_chain():\n",
    "  print(\"running chain\")\n",
    "  # Run the chain (with burn-in).\n",
    "  states, is_accepted = tfp.mcmc.sample_chain(\n",
    "      num_results=num_results,\n",
    "      num_burnin_steps=num_burnin_steps,\n",
    "      current_state=initial_chain_state,\n",
    "      kernel=adaptive_hmc,\n",
    "    trace_fn=trace_fn)\n",
    "  return states, is_accepted\n",
    "\n",
    "    "
   ]
  },
  {
   "cell_type": "code",
   "execution_count": 9,
   "metadata": {
    "collapsed": true
   },
   "outputs": [],
   "source": [
    "def run_chain_nuts():\n",
    "  print(\"running chain\")\n",
    "  # Run the chain (with burn-in).\n",
    "  states, is_accepted = tfp.mcmc.sample_chain(\n",
    "      num_results=20,\n",
    "      num_burnin_steps=num_burnin_steps,\n",
    "      current_state=initial_chain_state,\n",
    "      kernel=nuts)\n",
    "  return states, is_accepted\n",
    "\n",
    "def get_ll_from_advi(y_test, x_test, model):\n",
    "    theta_intermediate = model.sample()\n",
    "    theta_intermediate = tf.squeeze(theta_intermediate)\n",
    "    wpred, _, _ = sep_params(theta_intermediate, num_features)\n",
    "    likelihood = model.log_likelihood(y_test, x_test, theta_intermediate)\n",
    "    return likelihood\n",
    "    "
   ]
  },
  {
   "cell_type": "code",
   "execution_count": null,
   "metadata": {},
   "outputs": [],
   "source": [
    "def run_advi(nsteps, step_size, dim, log_prob, bijector, m):\n",
    "        advi = ADVIModel(dim, log_prob, bijector, m)\n",
    "        for t in range(nsteps):\n",
    "            grad_mu, grad_omega = advi.gradients()\n",
    "            advi.mu = tf.add(advi.mu, step_size * grad_mu)\n",
    "            advi.omega = tf.add(advi.omega, step_size * grad_omega)\n",
    "            tf.summary.scalar('elbo', advi.elbo(), step=t)\n",
    "            tf.summary.scalar('log likelihood', get_ll_from_advi(y_test, x_test, advi), step=t)\n",
    "            if(t%1 == 0):\n",
    "                theta_intermediate = advi.sample()\n",
    "                theta_intermediate = tf.squeeze(theta_intermediate)\n",
    "                wpred, _, _ = sep_params(theta_intermediate, num_features)\n",
    "                #print(\"real w\", w)\n",
    "                #print(\"pred w\",wpred)\n",
    "                loss = model.some_kind_of_loss(y_test, x_test, w)\n",
    "                likelihood = model.log_likelihood(y_test, x_test, theta_intermediate)\n",
    "                elbo_loss = advi.elbo()\n",
    "                #print(\"loss\", loss)\n",
    "                print(\"elbo\", elbo_loss)\n",
    "        theta = advi.sample()\n",
    "        return theta"
   ]
  },
  {
   "cell_type": "code",
   "execution_count": null,
   "metadata": {},
   "outputs": [
    {
     "name": "stdout",
     "output_type": "stream",
     "text": [
      "('start likelihood', <tf.Tensor: shape=(), dtype=float64, numpy=-22162.96169675738>)\n",
      "('elbo', <tf.Tensor: shape=(), dtype=float64, numpy=-462.6383914466502>)\n",
      "('elbo', <tf.Tensor: shape=(), dtype=float64, numpy=-456.42676575412537>)\n",
      "('elbo', <tf.Tensor: shape=(), dtype=float64, numpy=-454.28937484944225>)\n",
      "('elbo', <tf.Tensor: shape=(), dtype=float64, numpy=-460.74498477103884>)\n",
      "('elbo', <tf.Tensor: shape=(), dtype=float64, numpy=-447.9213524773801>)\n",
      "('elbo', <tf.Tensor: shape=(), dtype=float64, numpy=-518.9286959159907>)\n",
      "('elbo', <tf.Tensor: shape=(), dtype=float64, numpy=-455.7863660828274>)\n",
      "('elbo', <tf.Tensor: shape=(), dtype=float64, numpy=-428.2167352410382>)\n",
      "('elbo', <tf.Tensor: shape=(), dtype=float64, numpy=-432.53351400247504>)\n",
      "('elbo', <tf.Tensor: shape=(), dtype=float64, numpy=-476.1915704143877>)\n",
      "('elbo', <tf.Tensor: shape=(), dtype=float64, numpy=-462.13326959939053>)\n",
      "('elbo', <tf.Tensor: shape=(), dtype=float64, numpy=-434.2057223179613>)\n",
      "('elbo', <tf.Tensor: shape=(), dtype=float64, numpy=-418.7610514302827>)\n",
      "('elbo', <tf.Tensor: shape=(), dtype=float64, numpy=-438.7904621972995>)\n",
      "('elbo', <tf.Tensor: shape=(), dtype=float64, numpy=-432.1323864693577>)\n",
      "('elbo', <tf.Tensor: shape=(), dtype=float64, numpy=-422.9832052536794>)\n",
      "('elbo', <tf.Tensor: shape=(), dtype=float64, numpy=-421.6758974593917>)\n",
      "('elbo', <tf.Tensor: shape=(), dtype=float64, numpy=-433.677351237332>)\n",
      "('elbo', <tf.Tensor: shape=(), dtype=float64, numpy=-447.1891234662592>)\n",
      "('elbo', <tf.Tensor: shape=(), dtype=float64, numpy=-423.9348413398852>)\n",
      "('elbo', <tf.Tensor: shape=(), dtype=float64, numpy=-469.2903034670664>)\n",
      "('elbo', <tf.Tensor: shape=(), dtype=float64, numpy=-435.3772792327996>)\n",
      "('elbo', <tf.Tensor: shape=(), dtype=float64, numpy=-426.29708447616457>)\n",
      "('elbo', <tf.Tensor: shape=(), dtype=float64, numpy=-426.34013974173735>)\n",
      "('elbo', <tf.Tensor: shape=(), dtype=float64, numpy=-427.49645813411064>)\n",
      "('elbo', <tf.Tensor: shape=(), dtype=float64, numpy=-430.1534345241463>)\n",
      "('elbo', <tf.Tensor: shape=(), dtype=float64, numpy=-418.9520603449265>)\n",
      "('elbo', <tf.Tensor: shape=(), dtype=float64, numpy=-419.58444178816154>)\n",
      "('elbo', <tf.Tensor: shape=(), dtype=float64, numpy=-424.78592384742865>)\n",
      "('elbo', <tf.Tensor: shape=(), dtype=float64, numpy=-439.91735551282693>)\n",
      "('elbo', <tf.Tensor: shape=(), dtype=float64, numpy=-419.1758870842566>)\n",
      "('elbo', <tf.Tensor: shape=(), dtype=float64, numpy=-437.1733696219391>)\n",
      "('elbo', <tf.Tensor: shape=(), dtype=float64, numpy=-430.6299916078461>)\n",
      "('elbo', <tf.Tensor: shape=(), dtype=float64, numpy=-427.2565648856696>)\n",
      "('elbo', <tf.Tensor: shape=(), dtype=float64, numpy=-435.04372909164607>)\n",
      "('elbo', <tf.Tensor: shape=(), dtype=float64, numpy=-435.0105308645186>)\n",
      "('elbo', <tf.Tensor: shape=(), dtype=float64, numpy=-447.71857432641303>)\n",
      "('elbo', <tf.Tensor: shape=(), dtype=float64, numpy=-423.6329829537804>)\n",
      "('elbo', <tf.Tensor: shape=(), dtype=float64, numpy=-435.5675655226465>)\n",
      "('elbo', <tf.Tensor: shape=(), dtype=float64, numpy=-424.8253507758398>)\n",
      "('elbo', <tf.Tensor: shape=(), dtype=float64, numpy=-436.88903745190623>)\n",
      "('elbo', <tf.Tensor: shape=(), dtype=float64, numpy=-424.48209194539913>)\n",
      "('elbo', <tf.Tensor: shape=(), dtype=float64, numpy=-419.00970607145166>)\n",
      "('elbo', <tf.Tensor: shape=(), dtype=float64, numpy=-419.22049063698717>)\n",
      "('elbo', <tf.Tensor: shape=(), dtype=float64, numpy=-443.55479307233304>)\n",
      "('elbo', <tf.Tensor: shape=(), dtype=float64, numpy=-412.60695837124047>)\n",
      "('elbo', <tf.Tensor: shape=(), dtype=float64, numpy=-420.2207717696591>)\n",
      "('elbo', <tf.Tensor: shape=(), dtype=float64, numpy=-424.4034064199187>)\n",
      "('elbo', <tf.Tensor: shape=(), dtype=float64, numpy=-427.80165622807493>)\n",
      "('elbo', <tf.Tensor: shape=(), dtype=float64, numpy=-446.5306198001842>)\n",
      "('elbo', <tf.Tensor: shape=(), dtype=float64, numpy=-437.3389841245732>)\n",
      "('elbo', <tf.Tensor: shape=(), dtype=float64, numpy=-439.56870862196246>)\n",
      "('elbo', <tf.Tensor: shape=(), dtype=float64, numpy=-418.3419969011023>)\n",
      "('elbo', <tf.Tensor: shape=(), dtype=float64, numpy=-442.2918584505052>)\n",
      "('elbo', <tf.Tensor: shape=(), dtype=float64, numpy=-428.76347519993703>)\n",
      "('elbo', <tf.Tensor: shape=(), dtype=float64, numpy=-419.6946636131426>)\n",
      "('elbo', <tf.Tensor: shape=(), dtype=float64, numpy=-414.50245204868924>)\n",
      "('elbo', <tf.Tensor: shape=(), dtype=float64, numpy=-414.1448062211761>)\n",
      "('elbo', <tf.Tensor: shape=(), dtype=float64, numpy=-425.58854268825934>)\n",
      "('elbo', <tf.Tensor: shape=(), dtype=float64, numpy=-420.8531353148892>)\n",
      "('elbo', <tf.Tensor: shape=(), dtype=float64, numpy=-415.90182987395116>)\n",
      "('elbo', <tf.Tensor: shape=(), dtype=float64, numpy=-427.4590728888129>)\n",
      "('elbo', <tf.Tensor: shape=(), dtype=float64, numpy=-467.9168580944955>)\n",
      "('elbo', <tf.Tensor: shape=(), dtype=float64, numpy=-430.09057979201395>)\n",
      "('elbo', <tf.Tensor: shape=(), dtype=float64, numpy=-438.4819620147286>)\n",
      "('elbo', <tf.Tensor: shape=(), dtype=float64, numpy=-425.3607520491729>)\n",
      "('elbo', <tf.Tensor: shape=(), dtype=float64, numpy=-403.2880898094989>)\n",
      "('elbo', <tf.Tensor: shape=(), dtype=float64, numpy=-415.6228272550422>)\n",
      "('elbo', <tf.Tensor: shape=(), dtype=float64, numpy=-411.2907155948747>)\n",
      "('elbo', <tf.Tensor: shape=(), dtype=float64, numpy=-434.4423436576889>)\n",
      "('elbo', <tf.Tensor: shape=(), dtype=float64, numpy=-436.7789522989005>)\n",
      "('elbo', <tf.Tensor: shape=(), dtype=float64, numpy=-421.2348553710618>)\n",
      "('elbo', <tf.Tensor: shape=(), dtype=float64, numpy=-400.00488551602405>)\n",
      "('elbo', <tf.Tensor: shape=(), dtype=float64, numpy=-405.78423455838924>)\n",
      "('elbo', <tf.Tensor: shape=(), dtype=float64, numpy=-420.41231368069157>)\n",
      "('elbo', <tf.Tensor: shape=(), dtype=float64, numpy=-437.1997899396672>)\n",
      "('elbo', <tf.Tensor: shape=(), dtype=float64, numpy=-406.95797422445446>)\n",
      "('elbo', <tf.Tensor: shape=(), dtype=float64, numpy=-421.10111212134353>)\n",
      "('elbo', <tf.Tensor: shape=(), dtype=float64, numpy=-406.41028760852805>)\n",
      "('elbo', <tf.Tensor: shape=(), dtype=float64, numpy=-440.4115313874256>)\n",
      "('elbo', <tf.Tensor: shape=(), dtype=float64, numpy=-403.4845224995915>)\n",
      "('elbo', <tf.Tensor: shape=(), dtype=float64, numpy=-450.3775023966952>)\n",
      "('elbo', <tf.Tensor: shape=(), dtype=float64, numpy=-438.6336763974123>)\n",
      "('elbo', <tf.Tensor: shape=(), dtype=float64, numpy=-424.77020772529465>)\n",
      "('elbo', <tf.Tensor: shape=(), dtype=float64, numpy=-412.67792663768756>)\n",
      "('elbo', <tf.Tensor: shape=(), dtype=float64, numpy=-406.4838018373354>)\n",
      "('elbo', <tf.Tensor: shape=(), dtype=float64, numpy=-403.9350068552711>)\n",
      "('elbo', <tf.Tensor: shape=(), dtype=float64, numpy=-435.3406314800268>)\n",
      "('elbo', <tf.Tensor: shape=(), dtype=float64, numpy=-425.28637520255995>)\n",
      "('elbo', <tf.Tensor: shape=(), dtype=float64, numpy=-418.83866460163193>)\n",
      "('elbo', <tf.Tensor: shape=(), dtype=float64, numpy=-445.664333654117>)\n",
      "('elbo', <tf.Tensor: shape=(), dtype=float64, numpy=-411.93860843855936>)\n",
      "('elbo', <tf.Tensor: shape=(), dtype=float64, numpy=-428.1146169059957>)\n",
      "('elbo', <tf.Tensor: shape=(), dtype=float64, numpy=-414.0181293814239>)\n",
      "('elbo', <tf.Tensor: shape=(), dtype=float64, numpy=-436.68250771047565>)\n",
      "('elbo', <tf.Tensor: shape=(), dtype=float64, numpy=-415.5400560680242>)\n",
      "('elbo', <tf.Tensor: shape=(), dtype=float64, numpy=-430.29891348948354>)\n",
      "('elbo', <tf.Tensor: shape=(), dtype=float64, numpy=-422.1205352322468>)\n",
      "('elbo', <tf.Tensor: shape=(), dtype=float64, numpy=-411.17651404980273>)\n",
      "('elbo', <tf.Tensor: shape=(), dtype=float64, numpy=-403.73752036431546>)\n",
      "('elbo', <tf.Tensor: shape=(), dtype=float64, numpy=-416.60345708965497>)\n",
      "('elbo', <tf.Tensor: shape=(), dtype=float64, numpy=-427.9948999443371>)\n",
      "('elbo', <tf.Tensor: shape=(), dtype=float64, numpy=-405.45684006401723>)\n",
      "('elbo', <tf.Tensor: shape=(), dtype=float64, numpy=-437.10865013360905>)\n",
      "('elbo', <tf.Tensor: shape=(), dtype=float64, numpy=-428.4146091072552>)\n",
      "('elbo', <tf.Tensor: shape=(), dtype=float64, numpy=-418.4822259128217>)\n",
      "('elbo', <tf.Tensor: shape=(), dtype=float64, numpy=-412.4795325618411>)\n",
      "('elbo', <tf.Tensor: shape=(), dtype=float64, numpy=-418.54566381467>)\n",
      "('elbo', <tf.Tensor: shape=(), dtype=float64, numpy=-416.7882496480871>)\n",
      "('elbo', <tf.Tensor: shape=(), dtype=float64, numpy=-425.13223287957055>)\n",
      "('elbo', <tf.Tensor: shape=(), dtype=float64, numpy=-431.0056894934648>)\n"
     ]
    },
    {
     "name": "stdout",
     "output_type": "stream",
     "text": [
      "('elbo', <tf.Tensor: shape=(), dtype=float64, numpy=-412.5546913594521>)\n",
      "('elbo', <tf.Tensor: shape=(), dtype=float64, numpy=-414.16486114788813>)\n",
      "('elbo', <tf.Tensor: shape=(), dtype=float64, numpy=-430.79870109240227>)\n",
      "('elbo', <tf.Tensor: shape=(), dtype=float64, numpy=-422.8232932656648>)\n",
      "('elbo', <tf.Tensor: shape=(), dtype=float64, numpy=-413.1986393388453>)\n",
      "('elbo', <tf.Tensor: shape=(), dtype=float64, numpy=-415.31986033800445>)\n",
      "('elbo', <tf.Tensor: shape=(), dtype=float64, numpy=-417.4453988263161>)\n",
      "('elbo', <tf.Tensor: shape=(), dtype=float64, numpy=-417.3326990342155>)\n",
      "('elbo', <tf.Tensor: shape=(), dtype=float64, numpy=-405.46218730945014>)\n",
      "('elbo', <tf.Tensor: shape=(), dtype=float64, numpy=-415.71172614054205>)\n",
      "('elbo', <tf.Tensor: shape=(), dtype=float64, numpy=-406.0510587119282>)\n",
      "('elbo', <tf.Tensor: shape=(), dtype=float64, numpy=-411.27420627832953>)\n",
      "('elbo', <tf.Tensor: shape=(), dtype=float64, numpy=-411.0583742499456>)\n",
      "('elbo', <tf.Tensor: shape=(), dtype=float64, numpy=-410.14311106254013>)\n",
      "('elbo', <tf.Tensor: shape=(), dtype=float64, numpy=-416.83265020756386>)\n",
      "('elbo', <tf.Tensor: shape=(), dtype=float64, numpy=-412.15538675126624>)\n",
      "('elbo', <tf.Tensor: shape=(), dtype=float64, numpy=-407.92715681091227>)\n",
      "('elbo', <tf.Tensor: shape=(), dtype=float64, numpy=-415.31778243029976>)\n",
      "('elbo', <tf.Tensor: shape=(), dtype=float64, numpy=-418.6857769686406>)\n",
      "('elbo', <tf.Tensor: shape=(), dtype=float64, numpy=-430.26829954161093>)\n",
      "('elbo', <tf.Tensor: shape=(), dtype=float64, numpy=-520.0927414461602>)\n",
      "('elbo', <tf.Tensor: shape=(), dtype=float64, numpy=-410.6288580910456>)\n",
      "('elbo', <tf.Tensor: shape=(), dtype=float64, numpy=-410.58944472344064>)\n",
      "('elbo', <tf.Tensor: shape=(), dtype=float64, numpy=-424.3486979052718>)\n",
      "('elbo', <tf.Tensor: shape=(), dtype=float64, numpy=-421.88978763448085>)\n",
      "('elbo', <tf.Tensor: shape=(), dtype=float64, numpy=-405.93394945732155>)\n",
      "('elbo', <tf.Tensor: shape=(), dtype=float64, numpy=-413.8351397668542>)\n",
      "('elbo', <tf.Tensor: shape=(), dtype=float64, numpy=-415.74802691814466>)\n",
      "('elbo', <tf.Tensor: shape=(), dtype=float64, numpy=-401.49425883240485>)\n",
      "('elbo', <tf.Tensor: shape=(), dtype=float64, numpy=-414.5166368569321>)\n",
      "('elbo', <tf.Tensor: shape=(), dtype=float64, numpy=-413.81149855854454>)\n",
      "('elbo', <tf.Tensor: shape=(), dtype=float64, numpy=-403.1801987880979>)\n",
      "('elbo', <tf.Tensor: shape=(), dtype=float64, numpy=-432.4379823886739>)\n",
      "('elbo', <tf.Tensor: shape=(), dtype=float64, numpy=-419.83806291384974>)\n",
      "('elbo', <tf.Tensor: shape=(), dtype=float64, numpy=-412.2529814363607>)\n",
      "('elbo', <tf.Tensor: shape=(), dtype=float64, numpy=-399.3261413125672>)\n",
      "('elbo', <tf.Tensor: shape=(), dtype=float64, numpy=-432.1708680184635>)\n",
      "('elbo', <tf.Tensor: shape=(), dtype=float64, numpy=-410.76320354231666>)\n",
      "('elbo', <tf.Tensor: shape=(), dtype=float64, numpy=-401.83647230614775>)\n",
      "('elbo', <tf.Tensor: shape=(), dtype=float64, numpy=-425.4922369179882>)\n",
      "('elbo', <tf.Tensor: shape=(), dtype=float64, numpy=-400.95846950347504>)\n",
      "('elbo', <tf.Tensor: shape=(), dtype=float64, numpy=-411.4780498361499>)\n",
      "('elbo', <tf.Tensor: shape=(), dtype=float64, numpy=-414.6876039595011>)\n",
      "('elbo', <tf.Tensor: shape=(), dtype=float64, numpy=-435.0524659400117>)\n",
      "('elbo', <tf.Tensor: shape=(), dtype=float64, numpy=-414.63578087208424>)\n",
      "('elbo', <tf.Tensor: shape=(), dtype=float64, numpy=-412.1888433408202>)\n",
      "('elbo', <tf.Tensor: shape=(), dtype=float64, numpy=-403.9096169149362>)\n",
      "('elbo', <tf.Tensor: shape=(), dtype=float64, numpy=-414.2803963418702>)\n",
      "('elbo', <tf.Tensor: shape=(), dtype=float64, numpy=-410.76869990173714>)\n",
      "('elbo', <tf.Tensor: shape=(), dtype=float64, numpy=-401.2024739294665>)\n",
      "('elbo', <tf.Tensor: shape=(), dtype=float64, numpy=-412.20512216827586>)\n",
      "('elbo', <tf.Tensor: shape=(), dtype=float64, numpy=-420.2777110618035>)\n",
      "('elbo', <tf.Tensor: shape=(), dtype=float64, numpy=-419.94826507651504>)\n",
      "('elbo', <tf.Tensor: shape=(), dtype=float64, numpy=-414.5833067847409>)\n",
      "('elbo', <tf.Tensor: shape=(), dtype=float64, numpy=-404.2853138154546>)\n",
      "('elbo', <tf.Tensor: shape=(), dtype=float64, numpy=-420.39245729090436>)\n",
      "('elbo', <tf.Tensor: shape=(), dtype=float64, numpy=-402.50898304152497>)\n",
      "('elbo', <tf.Tensor: shape=(), dtype=float64, numpy=-406.644845453585>)\n",
      "('elbo', <tf.Tensor: shape=(), dtype=float64, numpy=-422.64152727949624>)\n",
      "('elbo', <tf.Tensor: shape=(), dtype=float64, numpy=-418.48064304620874>)\n",
      "('elbo', <tf.Tensor: shape=(), dtype=float64, numpy=-419.8790191845407>)\n",
      "('elbo', <tf.Tensor: shape=(), dtype=float64, numpy=-413.31245759944284>)\n",
      "('elbo', <tf.Tensor: shape=(), dtype=float64, numpy=-406.5226011792934>)\n",
      "('elbo', <tf.Tensor: shape=(), dtype=float64, numpy=-406.4016147369459>)\n",
      "('elbo', <tf.Tensor: shape=(), dtype=float64, numpy=-410.36949182670406>)\n",
      "('elbo', <tf.Tensor: shape=(), dtype=float64, numpy=-418.32504727386004>)\n",
      "('elbo', <tf.Tensor: shape=(), dtype=float64, numpy=-418.27625582557715>)\n",
      "('elbo', <tf.Tensor: shape=(), dtype=float64, numpy=-404.33973599234594>)\n",
      "('elbo', <tf.Tensor: shape=(), dtype=float64, numpy=-411.0516483570929>)\n",
      "('elbo', <tf.Tensor: shape=(), dtype=float64, numpy=-408.2028170185939>)\n",
      "('elbo', <tf.Tensor: shape=(), dtype=float64, numpy=-404.6932026405232>)\n",
      "('elbo', <tf.Tensor: shape=(), dtype=float64, numpy=-407.87197250172517>)\n",
      "('elbo', <tf.Tensor: shape=(), dtype=float64, numpy=-417.51916677052>)\n",
      "('elbo', <tf.Tensor: shape=(), dtype=float64, numpy=-419.8237724664975>)\n",
      "('elbo', <tf.Tensor: shape=(), dtype=float64, numpy=-405.74998397470983>)\n",
      "('elbo', <tf.Tensor: shape=(), dtype=float64, numpy=-407.99450543480117>)\n",
      "('elbo', <tf.Tensor: shape=(), dtype=float64, numpy=-403.0465329216973>)\n",
      "('elbo', <tf.Tensor: shape=(), dtype=float64, numpy=-405.1487836133383>)\n",
      "('elbo', <tf.Tensor: shape=(), dtype=float64, numpy=-414.9243672646428>)\n",
      "('elbo', <tf.Tensor: shape=(), dtype=float64, numpy=-411.6829081438973>)\n",
      "('elbo', <tf.Tensor: shape=(), dtype=float64, numpy=-411.6766697420339>)\n",
      "('elbo', <tf.Tensor: shape=(), dtype=float64, numpy=-403.44773579697596>)\n",
      "('elbo', <tf.Tensor: shape=(), dtype=float64, numpy=-425.2617577262263>)\n",
      "('elbo', <tf.Tensor: shape=(), dtype=float64, numpy=-398.3191236945347>)\n",
      "('elbo', <tf.Tensor: shape=(), dtype=float64, numpy=-401.4010516033935>)\n",
      "('elbo', <tf.Tensor: shape=(), dtype=float64, numpy=-412.82031068540823>)\n"
     ]
    }
   ],
   "source": [
    "# looking at starting weights\n",
    "start_w, _, _ = sep_params(initial_chain_state, num_features)\n",
    "# looking at starting model\n",
    "start_likelihood = model.log_likelihood(y_test, x_test, initial_chain_state)\n",
    "print(\"start likelihood\", start_likelihood)\n",
    "# target function \n",
    "joint_log_prob2 = lambda *args: model.joint_log_prob(y_train, x_train, *args)\n",
    "target = model.joint_log_prob\n",
    "bij = tfp.bijectors.Log()\n",
    "\n",
    "# run the advi\n",
    "step_size = 0.001\n",
    "num_results = 10000\n",
    "with summary_writer.as_default():\n",
    "    theta = run_advi(num_results,\n",
    "                     step_size,\n",
    "                     model.num_params,\n",
    "                     joint_log_prob2,\n",
    "                     bij,\n",
    "                     10)\n"
   ]
  },
  {
   "cell_type": "code",
   "execution_count": null,
   "metadata": {},
   "outputs": [],
   "source": [
    "\n",
    "start_loss = state_to_loss(initial_chain_state, y_test, x_test)\n",
    "print(\"start loss\", start_loss)\n",
    "print(\"theta\", theta.shape)\n",
    "theta = tf.squeeze(theta)\n",
    "w, _, _ = sep_params(theta, num_features)\n",
    "loss = model.some_kind_of_loss(y_test, x_test, w)\n",
    "\n",
    "print(\"loss\", loss)\n",
    "\n"
   ]
  },
  {
   "cell_type": "code",
   "execution_count": null,
   "metadata": {},
   "outputs": [],
   "source": [
    "initial_chain_state = return_initial_state(num_features)\n",
    "sample_mean = tf.reduce_mean(states, axis=[0])\n",
    "wend, alpha, tau = sep_params(sample_mean, num_features)\n",
    "\n",
    "print(\"start\", wstart)\n",
    "loss_start = some_kind_of_loss(wstarty_test, x_test, )\n",
    "print(\"loss start\", loss_start)\n",
    "\n",
    "print(\"actual\",w)\n",
    "print(\"end\", wend)\n",
    "print(\"start\", wstart)\n",
    "loss_end = some_kind_of_loss(wend,y_test, x_test, )\n",
    "print(\"loss start\", loss_start)\n",
    "print(\"loss end\", loss_end)\n"
   ]
  },
  {
   "cell_type": "code",
   "execution_count": null,
   "metadata": {},
   "outputs": [],
   "source": [
    "sample_mean = tf.reduce_mean(states, axis=[0])\n",
    "wend, alpha, tau = sep_params(sample_mean, num_features)\n",
    "\n"
   ]
  }
 ],
 "metadata": {
  "kernelspec": {
   "display_name": "Python 2",
   "language": "python",
   "name": "python2"
  },
  "language_info": {
   "codemirror_mode": {
    "name": "ipython",
    "version": 2
   },
   "file_extension": ".py",
   "mimetype": "text/x-python",
   "name": "python",
   "nbconvert_exporter": "python",
   "pygments_lexer": "ipython2",
   "version": "2.7.13"
  }
 },
 "nbformat": 4,
 "nbformat_minor": 4
}
