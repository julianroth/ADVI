{
 "cells": [
  {
   "cell_type": "code",
   "execution_count": 1,
   "metadata": {},
   "outputs": [
    {
     "name": "stderr",
     "output_type": "stream",
     "text": [
      "/anaconda/lib/python2.7/site-packages/h5py/__init__.py:34: FutureWarning: Conversion of the second argument of issubdtype from `float` to `np.floating` is deprecated. In future, it will be treated as `np.float64 == np.dtype(float).type`.\n",
      "  from ._conv import register_converters as _register_converters\n"
     ]
    }
   ],
   "source": [
    "import tensorflow as tf\n",
    "import tensorflow_probability as tfp\n",
    "import numpy as np\n",
    "from advi.model import ADVIModel\n",
    "from models.ard import Ard\n",
    "from models.ard import sep_params\n",
    "#from models.ard import joint_log_prob, return_initial_state, sep_params, log_likelihood, some_kind_of_loss\n",
    "# NEXT TO DO MUST CHANGE INITAL CHAIN STATES TO SAMPLE FROM DISTRIBUTION\n",
    "# Target distribution is proportional to: `exp(-x (1 + x))`.\n",
    "\n",
    "# Initialize the HMC transition kernel.\n",
    "\n"
   ]
  },
  {
   "cell_type": "code",
   "execution_count": 2,
   "metadata": {},
   "outputs": [
    {
     "name": "stdout",
     "output_type": "stream",
     "text": [
      "('y shape', (1, 200))\n",
      "('x shape', (100, 200))\n",
      "('w shape', (1, 100))\n"
     ]
    }
   ],
   "source": [
    "def make_training_data(num_samples, dims, sigma):\n",
    "  x = np.random.randn(dims, num_samples).astype(np.float64)\n",
    "  w = sigma * np.random.randn(1, dims).astype(np.float64)\n",
    "  noise = np.random.randn(num_samples).astype(np.float64)\n",
    "  w[:,:int(dims/2)] = 0\n",
    "  y = w.dot(x) + noise\n",
    "    \n",
    "  return y, x, w\n",
    "\n",
    "def sep_training_test(y,x, test):\n",
    "  y_train = y[:,test:]\n",
    "  x_train = x[:,test:]\n",
    "  \n",
    "  y_test = y[:,:test]\n",
    "  x_test = x[:,:test]\n",
    "  return y_train, y_test, x_train, x_test\n",
    "num_features = 100\n",
    "\n",
    "y, x, w = make_training_data(200, num_features, 2)\n",
    "print(\"y shape\", y.shape)\n",
    "print(\"x shape\", x.shape)\n",
    "print(\"w shape\", w.shape)\n"
   ]
  },
  {
   "cell_type": "code",
   "execution_count": 3,
   "metadata": {},
   "outputs": [
    {
     "name": "stdout",
     "output_type": "stream",
     "text": [
      "(1, 150)\n",
      "(1, 50)\n",
      "(100, 150)\n",
      "(100, 50)\n"
     ]
    }
   ],
   "source": [
    "y_train, y_test, x_train, x_test = sep_training_test(y,x,50)\n",
    "print(y_train.shape)\n",
    "print(y_test.shape)\n",
    "print(x_train.shape)\n",
    "print(x_test.shape)\n",
    "\n"
   ]
  },
  {
   "cell_type": "code",
   "execution_count": 4,
   "metadata": {},
   "outputs": [],
   "source": [
    "model = Ard(y_train, x_train, y_test, x_test)\n",
    "initial_chain_state = model.return_initial_state()\n",
    "wstart, tau, alpha = sep_params(initial_chain_state, num_features)\n"
   ]
  },
  {
   "cell_type": "code",
   "execution_count": 5,
   "metadata": {},
   "outputs": [
    {
     "data": {
      "text/plain": [
       "<tf.Tensor: shape=(), dtype=float64, numpy=3633.388475954731>"
      ]
     },
     "execution_count": 5,
     "metadata": {},
     "output_type": "execute_result"
    }
   ],
   "source": [
    "def state_to_log_pred(states, y_test, x_test):\n",
    "    sample_mean = tf.reduce_mean(states, axis=[0])\n",
    "    return model.log_likelihood(states)\n",
    "\n",
    "def state_to_loss(states, y_test, x_test):\n",
    "    sample_mean = tf.reduce_mean(states, axis=[0])\n",
    "    w, _, _ = sep_params(states, num_features)\n",
    "    return model.some_kind_of_loss(w)\n",
    "\n",
    "state_to_loss(initial_chain_state, y_test, x_test)"
   ]
  },
  {
   "cell_type": "code",
   "execution_count": 6,
   "metadata": {
    "collapsed": true
   },
   "outputs": [],
   "source": [
    "summary_writer = tf.compat.v2.summary.create_file_writer('/tmp/summary_chain', flush_millis=10000)\n",
    "def trace_fn(state, results):\n",
    "  with tf.compat.v2.summary.record_if(tf.equal(results.step % 10, 0)):\n",
    "    tf.compat.v2.summary.scalar(\"loss\", state_to_loss(state, y_test, x_test), step=tf.cast(results.step, tf.int64))\n",
    "    tf.compat.v2.summary.scalar(\"log pred\", state_to_log_pred(state, y_test, x_test), step=tf.cast(results.step, tf.int64))\n",
    "    return ()"
   ]
  },
  {
   "cell_type": "code",
   "execution_count": null,
   "metadata": {},
   "outputs": [],
   "source": []
  },
  {
   "cell_type": "code",
   "execution_count": 7,
   "metadata": {},
   "outputs": [],
   "source": [
    "num_results = int(10000)\n",
    "num_burnin_steps = int(800)\n",
    "adaptive_hmc = tfp.mcmc.SimpleStepSizeAdaptation(\n",
    "    tfp.mcmc.HamiltonianMonteCarlo(\n",
    "        target_log_prob_fn=model.joint_log_prob,\n",
    "        num_leapfrog_steps=3,\n",
    "        step_size=0.1),\n",
    "    num_adaptation_steps=int(num_burnin_steps * 0.8))\n",
    "\n",
    "nuts = tfp.mcmc.NoUTurnSampler(\n",
    "    target_log_prob_fn=model.joint_log_prob, step_size=1., max_tree_depth=10, max_energy_diff=1000.0,\n",
    "    unrolled_leapfrog_steps=1, parallel_iterations=10, seed=None, name=None)\n",
    "\n",
    "\n",
    "\n"
   ]
  },
  {
   "cell_type": "code",
   "execution_count": null,
   "metadata": {
    "collapsed": true
   },
   "outputs": [],
   "source": [
    "@tf.function\n",
    "def run_chain():\n",
    "  print(\"running chain\")\n",
    "  # Run the chain (with burn-in).\n",
    "  states, is_accepted = tfp.mcmc.sample_chain(\n",
    "      num_results=num_results,\n",
    "      num_burnin_steps=num_burnin_steps,\n",
    "      current_state=initial_chain_state,\n",
    "      kernel=adaptive_hmc,\n",
    "    trace_fn=trace_fn)\n",
    "  return states, is_accepted\n",
    "\n",
    "def run_chain_nuts():\n",
    "  print(\"running chain\")\n",
    "  # Run the chain (with burn-in).\n",
    "  states, is_accepted = tfp.mcmc.sample_chain(\n",
    "      num_results=20,\n",
    "      num_burnin_steps=num_burnin_steps,\n",
    "      current_state=initial_chain_state,\n",
    "      kernel=nuts)\n",
    "  return states, is_accepted\n",
    "\n",
    "\n",
    "\n",
    "def run_advi(nsteps, dim, log_prob, bijector):\n",
    "    advi = ADVIModel(dim, log_prob, bijector)\n",
    "    for t in range(nsteps):\n",
    "        grad_mu, grad_omega = advi.gradients()\n",
    "        advi.mu = tf.add(q.mu, step_size * grad_mu)\n",
    "        advi.omega = tf.add(q.omega, step_size * grad_omega)\n",
    "    # sample from eta distribution currently just once,\n",
    "    # using current values of mu and sigma to return trained params theta\n",
    "    theta = advi.sample()\n",
    "    return theta\n",
    "    "
   ]
  },
  {
   "cell_type": "markdown",
   "metadata": {
    "collapsed": true
   },
   "source": [
    "log_prob = joint_log_prob\n",
    "bij = tfp.bijectors.Log()\n",
    "theta = run_advi(40, 100, log_prob, bij)\n",
    "start_loss = state_to_loss(initial_chain_state,y_test, x_test)\n",
    "print(\"start loss\", start_loss)\n",
    "loss = state_to_loss(theta, y_test, x_test)\n",
    "print(\"loss\", loss)"
   ]
  },
  {
   "cell_type": "code",
   "execution_count": null,
   "metadata": {},
   "outputs": [
    {
     "name": "stdout",
     "output_type": "stream",
     "text": [
      "running chain\n"
     ]
    }
   ],
   "source": [
    "with summary_writer.as_default():\n",
    "  states, is_accepted = run_chain()\n",
    "summary_writer.close()\n",
    "print(is_accepted)\n",
    "\n",
    "\n",
    "\n"
   ]
  },
  {
   "cell_type": "code",
   "execution_count": null,
   "metadata": {},
   "outputs": [],
   "source": [
    "initial_chain_state = return_initial_state(num_features)\n",
    "sample_mean = tf.reduce_mean(states, axis=[0])\n",
    "wend, alpha, tau = sep_params(sample_mean, num_features)\n",
    "\n",
    "print(\"start\", wstart)\n",
    "loss_start = some_kind_of_loss(wstarty_test, x_test, )\n",
    "print(\"loss start\", loss_start)\n",
    "\n",
    "print(\"actual\",w)\n",
    "print(\"end\", wend)\n",
    "print(\"start\", wstart)\n",
    "loss_end = some_kind_of_loss(wend,y_test, x_test, )\n",
    "print(\"loss start\", loss_start)\n",
    "print(\"loss end\", loss_end)\n"
   ]
  },
  {
   "cell_type": "code",
   "execution_count": null,
   "metadata": {},
   "outputs": [],
   "source": [
    "print(states.shape)\n",
    "sample_mean = tf.reduce_mean(states, axis=[0])\n",
    "wend, alpha, tau = sep_params(sample_mean, num_features)\n",
    "\n"
   ]
  },
  {
   "cell_type": "code",
   "execution_count": null,
   "metadata": {
    "collapsed": true
   },
   "outputs": [],
   "source": []
  }
 ],
 "metadata": {
  "kernelspec": {
   "display_name": "Python 2",
   "language": "python",
   "name": "python2"
  },
  "language_info": {
   "codemirror_mode": {
    "name": "ipython",
    "version": 2
   },
   "file_extension": ".py",
   "mimetype": "text/x-python",
   "name": "python",
   "nbconvert_exporter": "python",
   "pygments_lexer": "ipython2",
   "version": "2.7.13"
  }
 },
 "nbformat": 4,
 "nbformat_minor": 4
}
