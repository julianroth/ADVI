{
 "cells": [
  {
   "cell_type": "code",
   "execution_count": 1,
   "metadata": {},
   "outputs": [
    {
     "name": "stderr",
     "output_type": "stream",
     "text": [
      "/anaconda/lib/python2.7/site-packages/h5py/__init__.py:34: FutureWarning: Conversion of the second argument of issubdtype from `float` to `np.floating` is deprecated. In future, it will be treated as `np.float64 == np.dtype(float).type`.\n",
      "  from ._conv import register_converters as _register_converters\n"
     ]
    }
   ],
   "source": [
    "import tensorflow as tf\n",
    "import tensorflow_probability as tfp\n",
    "import numpy as np\n",
    "from advi.model import ADVIModel\n",
    "from models.ard import Ard\n",
    "#from models.ard import joint_log_prob, return_initial_state, sep_params, log_likelihood, some_kind_of_loss\n",
    "# NEXT TO DO MUST CHANGE INITAL CHAIN STATES TO SAMPLE FROM DISTRIBUTION\n",
    "# Target distribution is proportional to: `exp(-x (1 + x))`.\n",
    "\n",
    "#tf.config.experimental_run_functions_eagerly(True)"
   ]
  },
  {
   "cell_type": "markdown",
   "metadata": {},
   "source": [
    "## Making training data"
   ]
  },
  {
   "cell_type": "code",
   "execution_count": 2,
   "metadata": {},
   "outputs": [
    {
     "name": "stdout",
     "output_type": "stream",
     "text": [
      "(1, 9900)\n",
      "(1, 100)\n",
      "(250, 9900)\n",
      "(250, 100)\n"
     ]
    }
   ],
   "source": [
    "def make_training_data(num_samples, dims, sigma):\n",
    "  \"\"\"\n",
    "  Creates training data when half of the regressors are 0\n",
    "  \"\"\"\n",
    "  x = np.random.randn(dims, num_samples).astype(np.float64)\n",
    "  w = sigma * np.random.randn(1, dims).astype(np.float64)\n",
    "  noise = np.random.randn(num_samples).astype(np.float64)\n",
    "  w[:,:int(dims/2)] = 0\n",
    "  y = w.dot(x) + noise\n",
    "    \n",
    "  return y, x, w\n",
    "\n",
    "def sep_training_test(y,x,test):\n",
    "  y_train = y[:,test:]\n",
    "  x_train = x[:,test:]\n",
    "  \n",
    "  y_test = y[:,:test]\n",
    "  x_test = x[:,:test]\n",
    "  return y_train, y_test, x_train, x_test\n",
    "num_features = 250\n",
    "\n",
    "y, x, w = make_training_data(10000, num_features, 2)\n",
    "y_train, y_test, x_train, x_test = sep_training_test(y,x,100)\n",
    "print(y_train.shape)\n",
    "print(y_test.shape)\n",
    "print(x_train.shape)\n",
    "print(x_test.shape)\n",
    "\n"
   ]
  },
  {
   "cell_type": "markdown",
   "metadata": {},
   "source": [
    "## Useful functions when using HMC "
   ]
  },
  {
   "cell_type": "code",
   "execution_count": 3,
   "metadata": {
    "collapsed": true
   },
   "outputs": [],
   "source": [
    "def state_to_log_like(states, y_test, x_test):\n",
    "    sample_mean = tf.reduce_mean(states, axis=[0])\n",
    "    return model.log_likelihood(y_test, x_test, states)\n",
    "\n",
    "def state_to_loss(states, y_test, x_test):\n",
    "    sample_mean = tf.reduce_mean(states, axis=[0])\n",
    "    w, _, _ = sep_params(states, num_features)\n",
    "    return model.loss(y_test, x_test, w)"
   ]
  },
  {
   "cell_type": "markdown",
   "metadata": {},
   "source": [
    "## Defining summary writer"
   ]
  },
  {
   "cell_type": "code",
   "execution_count": 4,
   "metadata": {},
   "outputs": [],
   "source": [
    "summary_writer = tf.compat.v2.summary.create_file_writer('/tmp/summary_chain', flush_millis=10000)\n",
    "    \n",
    "def trace_fn(state, results):\n",
    "  with tf.compat.v2.summary.record_if(tf.equal(results.step % 10, 0)):\n",
    "    tf.compat.v2.summary.scalar(\"log pred hmc\", state_to_log_like(state, y_test, x_test), step=tf.cast(results.step, tf.int64))\n",
    "    return ()\n",
    "step_is = 0\n",
    "def trace_fn_nuts(state, results):\n",
    "    global step_is\n",
    "    step_is +=1\n",
    "    tf.summary.scalar(\"log pred nuts\", state_to_log_like(state, y_test, x_test), step=step_is)\n",
    "    return ()"
   ]
  },
  {
   "cell_type": "markdown",
   "metadata": {},
   "source": [
    "# Define the regression model"
   ]
  },
  {
   "cell_type": "code",
   "execution_count": 5,
   "metadata": {},
   "outputs": [],
   "source": [
    "model = Ard(num_features)\n",
    "# Need to have a starting state for HMC and Nuts for chain\n",
    "joint_log_prob2 = lambda *args: model.joint_log_prob(y_train, x_train, *args)\n",
    "initial_chain_state = model.return_initial_state()"
   ]
  },
  {
   "cell_type": "markdown",
   "metadata": {},
   "source": [
    "## Defining kernels for HMC and NUTS"
   ]
  },
  {
   "cell_type": "code",
   "execution_count": 6,
   "metadata": {},
   "outputs": [],
   "source": [
    "num_results = int(10000)\n",
    "num_burnin_steps = int(800)\n",
    "adaptive_hmc = tfp.mcmc.SimpleStepSizeAdaptation(\n",
    "    tfp.mcmc.HamiltonianMonteCarlo(\n",
    "        target_log_prob_fn=joint_log_prob2,\n",
    "        num_leapfrog_steps=3,\n",
    "        step_size=0.1),\n",
    "    num_adaptation_steps=int(num_burnin_steps * 0.8))\n",
    "\n",
    "nuts = tfp.mcmc.NoUTurnSampler(\n",
    "    target_log_prob_fn=joint_log_prob2,\n",
    "    step_size=1,\n",
    "    max_tree_depth=10,\n",
    "    max_energy_diff=1000.0,\n",
    "    unrolled_leapfrog_steps=1, parallel_iterations=10, seed=None, name=None)"
   ]
  },
  {
   "cell_type": "code",
   "execution_count": 7,
   "metadata": {
    "collapsed": true
   },
   "outputs": [],
   "source": [
    "@tf.function\n",
    "def run_chain_hmc():\n",
    "  print(\"running hmc chain\")\n",
    "  # Run the chain (with burn-in).\n",
    "  states, is_accepted = tfp.mcmc.sample_chain(\n",
    "      num_results=num_results,\n",
    "      num_burnin_steps=num_burnin_steps,\n",
    "      current_state=initial_chain_state,\n",
    "      kernel=adaptive_hmc,\n",
    "    trace_fn=trace_fn)\n",
    "  return states, is_accepted"
   ]
  },
  {
   "cell_type": "code",
   "execution_count": 8,
   "metadata": {
    "collapsed": true
   },
   "outputs": [],
   "source": [
    "@tf.function\n",
    "def run_chain_nuts():\n",
    "  print(\"running nuts chain\")\n",
    "  # Run the chain (with burn-in).\n",
    "  states, is_accepted = tfp.mcmc.sample_chain(\n",
    "      num_results= num_results,\n",
    "      num_burnin_steps=num_burnin_steps,\n",
    "      current_state=initial_chain_state,\n",
    "      kernel=nuts,\n",
    "      trace_fn=trace_fn_nuts)\n",
    "  return states, is_accepted\n",
    "    "
   ]
  },
  {
   "cell_type": "markdown",
   "metadata": {},
   "source": [
    "## ADVI Stuff starts here"
   ]
  },
  {
   "cell_type": "markdown",
   "metadata": {},
   "source": [
    "### Functions to pass in to summary writer"
   ]
  },
  {
   "cell_type": "code",
   "execution_count": 9,
   "metadata": {
    "collapsed": true
   },
   "outputs": [],
   "source": [
    "def get_ll_from_advi(y_test, x_test, advi, regression_model):\n",
    "    theta_intermediate = advi.sample()\n",
    "    theta_intermediate = tf.squeeze(theta_intermediate)\n",
    "    likelihood = regression_model.log_likelihood(y_test, x_test, theta_intermediate)\n",
    "    return likelihood\n",
    "\n",
    "def get_loss_from_advi(y_test, x_test, advi, regression_model):\n",
    "    theta_intermediate = advi.sample()\n",
    "    theta_intermediate = tf.squeeze(theta_intermediate)\n",
    "    w, _, _ = regression_model.sep_params(theta_intermediate)\n",
    "    return regression_model.loss(y_test, x_test, w)"
   ]
  },
  {
   "cell_type": "code",
   "execution_count": null,
   "metadata": {
    "collapsed": true
   },
   "outputs": [],
   "source": [
    "def run_advi(nsteps, step_size, dim, log_prob, bijector, m, regression_model):\n",
    "        advi = ADVIModel(dim, log_prob, bijector, m)\n",
    "        for t in range(nsteps):\n",
    "            grad_mu, grad_omega = advi.gradients()\n",
    "            advi.mu = tf.add(advi.mu, step_size * grad_mu)\n",
    "            advi.omega = tf.add(advi.omega, step_size * grad_omega)\n",
    "            tf.summary.scalar('elbo', advi.elbo(), step=t)\n",
    "            tf.summary.scalar('log likelihood', get_ll_from_advi(y_test, x_test, advi, regression_model), step=t)\n",
    "            tf.summary.scalar('loss', get_loss_from_advi(y_test, x_test, advi, regression_model), step=t)\n",
    "            if(t%1 == 0):\n",
    "                theta_intermediate = advi.sample()\n",
    "                theta_intermediate = tf.squeeze(theta_intermediate)\n",
    "                wpred, _, _ = model.sep_params(theta_intermediate)\n",
    "                loss = regression_model.loss(y_test, x_test, wpred)\n",
    "                likelihood = regression_model.log_likelihood(y_test, x_test, theta_intermediate)\n",
    "                elbo_loss = advi.elbo()\n",
    "                print(loss)\n",
    "                print(\"elbo\", elbo_loss)\n",
    "        theta = advi.sample()\n",
    "        return theta"
   ]
  },
  {
   "cell_type": "code",
   "execution_count": null,
   "metadata": {},
   "outputs": [
    {
     "name": "stdout",
     "output_type": "stream",
     "text": [
      "running hmc chain\n"
     ]
    }
   ],
   "source": [
    "# target function \n",
    "\n",
    "what_to_run = \"hmc\"\n",
    "if(what_to_run == \"advi\"):\n",
    "    bij = tfp.bijectors.Log()\n",
    "    num_results = 10000\n",
    "    step_size = 0.001\n",
    "    # run the advi\n",
    "    with summary_writer.as_default():\n",
    "        theta = run_advi(num_results,\n",
    "                         step_size,\n",
    "                         model.num_params,\n",
    "                         joint_log_prob2,\n",
    "                         bij,\n",
    "                         10, model)\n",
    "        \n",
    "if (what_to_run == \"hmc\"):\n",
    "    with summary_writer.as_default():\n",
    "        theta = run_chain_hmc()\n",
    "    summary_writer.close()\n",
    "        \n",
    "if (what_to_run == \"nuts\"):\n",
    "    with summary_writer.as_default():\n",
    "        theta = run_chain_nuts()\n",
    "    summary_writer.close()\n"
   ]
  },
  {
   "cell_type": "code",
   "execution_count": null,
   "metadata": {},
   "outputs": [],
   "source": [
    "print(step_is)"
   ]
  },
  {
   "cell_type": "code",
   "execution_count": null,
   "metadata": {},
   "outputs": [],
   "source": [
    "\n",
    "\n"
   ]
  },
  {
   "cell_type": "code",
   "execution_count": null,
   "metadata": {
    "collapsed": true
   },
   "outputs": [],
   "source": [
    "\n"
   ]
  },
  {
   "cell_type": "code",
   "execution_count": null,
   "metadata": {
    "collapsed": true
   },
   "outputs": [],
   "source": []
  }
 ],
 "metadata": {
  "kernelspec": {
   "display_name": "Python 2",
   "language": "python",
   "name": "python2"
  },
  "language_info": {
   "codemirror_mode": {
    "name": "ipython",
    "version": 2
   },
   "file_extension": ".py",
   "mimetype": "text/x-python",
   "name": "python",
   "nbconvert_exporter": "python",
   "pygments_lexer": "ipython2",
   "version": "2.7.13"
  }
 },
 "nbformat": 4,
 "nbformat_minor": 4
}
