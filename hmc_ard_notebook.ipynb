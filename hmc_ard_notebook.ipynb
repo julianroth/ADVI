{
 "cells": [
  {
   "cell_type": "code",
   "execution_count": 1,
   "metadata": {},
   "outputs": [
    {
     "name": "stderr",
     "output_type": "stream",
     "text": [
      "/anaconda/lib/python2.7/site-packages/h5py/__init__.py:34: FutureWarning: Conversion of the second argument of issubdtype from `float` to `np.floating` is deprecated. In future, it will be treated as `np.float64 == np.dtype(float).type`.\n",
      "  from ._conv import register_converters as _register_converters\n"
     ]
    }
   ],
   "source": [
    "import tensorflow as tf\n",
    "import tensorflow_probability as tfp\n",
    "import numpy as np\n",
    "from advi.model import ADVIModel\n",
    "from models.ard import Ard\n",
    "from models.ard import sep_params\n",
    "#from models.ard import joint_log_prob, return_initial_state, sep_params, log_likelihood, some_kind_of_loss\n",
    "# NEXT TO DO MUST CHANGE INITAL CHAIN STATES TO SAMPLE FROM DISTRIBUTION\n",
    "# Target distribution is proportional to: `exp(-x (1 + x))`.\n",
    "\n",
    "# Initialize the HMC transition kernel.\n",
    "\n"
   ]
  },
  {
   "cell_type": "markdown",
   "metadata": {},
   "source": [
    "## Making training data"
   ]
  },
  {
   "cell_type": "code",
   "execution_count": 2,
   "metadata": {},
   "outputs": [
    {
     "name": "stdout",
     "output_type": "stream",
     "text": [
      "(1, 0)\n",
      "(1, 100)\n",
      "(250, 0)\n",
      "(250, 100)\n"
     ]
    }
   ],
   "source": [
    "def make_training_data(num_samples, dims, sigma):\n",
    "  \"\"\"\n",
    "  Creates training data when half of the regressors are 0\n",
    "  \"\"\"\n",
    "  x = np.random.randn(dims, num_samples).astype(np.float64)\n",
    "  w = sigma * np.random.randn(1, dims).astype(np.float64)\n",
    "  noise = np.random.randn(num_samples).astype(np.float64)\n",
    "  w[:,:int(dims/2)] = 0\n",
    "  y = w.dot(x) + noise\n",
    "    \n",
    "  return y, x, w\n",
    "\n",
    "def sep_training_test(y,x,test):\n",
    "  y_train = y[:,test:]\n",
    "  x_train = x[:,test:]\n",
    "  \n",
    "  y_test = y[:,:test]\n",
    "  x_test = x[:,:test]\n",
    "  return y_train, y_test, x_train, x_test\n",
    "num_features = 250\n",
    "\n",
    "y, x, w = make_training_data(100, num_features, 2)\n",
    "y_train, y_test, x_train, x_test = sep_training_test(y,x,100)\n",
    "print(y_train.shape)\n",
    "print(y_test.shape)\n",
    "print(x_train.shape)\n",
    "print(x_test.shape)\n",
    "\n"
   ]
  },
  {
   "cell_type": "markdown",
   "metadata": {},
   "source": [
    "## Useful functions when using HMC "
   ]
  },
  {
   "cell_type": "code",
   "execution_count": 3,
   "metadata": {},
   "outputs": [],
   "source": [
    "def state_to_log_pred(states, y_test, x_test):\n",
    "    sample_mean = tf.reduce_mean(states, axis=[0])\n",
    "    return model.log_likelihood(y_test, x_test, states)\n",
    "\n",
    "def state_to_loss(states, y_test, x_test):\n",
    "    sample_mean = tf.reduce_mean(states, axis=[0])\n",
    "    w, _, _ = sep_params(states, num_features)\n",
    "    return model.some_kind_of_loss(y_test, x_test, w)"
   ]
  },
  {
   "cell_type": "code",
   "execution_count": null,
   "metadata": {
    "collapsed": true
   },
   "outputs": [],
   "source": []
  },
  {
   "cell_type": "markdown",
   "metadata": {},
   "source": [
    "## Defining summary writer"
   ]
  },
  {
   "cell_type": "code",
   "execution_count": 4,
   "metadata": {
    "collapsed": true
   },
   "outputs": [],
   "source": [
    "summary_writer = tf.compat.v2.summary.create_file_writer('/tmp/summary_chain', flush_millis=10000)\n",
    "def trace_fn(state, results):\n",
    "  with tf.compat.v2.summary.record_if(tf.equal(results.step % 10, 0)):\n",
    "    tf.compat.v2.summary.scalar(\"log pred\", state_to_log_pred(state, y_test, x_test), step=tf.cast(results.step, tf.int64))\n",
    "    return ()"
   ]
  },
  {
   "cell_type": "code",
   "execution_count": 5,
   "metadata": {
    "collapsed": true
   },
   "outputs": [],
   "source": [
    "model = Ard(num_features)\n",
    "initial_chain_state = model.return_initial_state()\n",
    "wstart, tau, alpha = sep_params(initial_chain_state, num_features)"
   ]
  },
  {
   "cell_type": "markdown",
   "metadata": {},
   "source": [
    "## Defining kernels for HMC and NUTs"
   ]
  },
  {
   "cell_type": "code",
   "execution_count": 6,
   "metadata": {
    "collapsed": true
   },
   "outputs": [],
   "source": [
    "num_results = int(10000)\n",
    "num_burnin_steps = int(800)\n",
    "adaptive_hmc = tfp.mcmc.SimpleStepSizeAdaptation(\n",
    "    tfp.mcmc.HamiltonianMonteCarlo(\n",
    "        target_log_prob_fn=model.joint_log_prob,\n",
    "        num_leapfrog_steps=3,\n",
    "        step_size=0.1),\n",
    "    num_adaptation_steps=int(num_burnin_steps * 0.8))\n",
    "\n",
    "nuts = tfp.mcmc.NoUTurnSampler(\n",
    "    target_log_prob_fn=model.joint_log_prob, step_size=1., max_tree_depth=10, max_energy_diff=1000.0,\n",
    "    unrolled_leapfrog_steps=1, parallel_iterations=10, seed=None, name=None)"
   ]
  },
  {
   "cell_type": "code",
   "execution_count": 7,
   "metadata": {
    "collapsed": true
   },
   "outputs": [],
   "source": [
    "def run_chain():\n",
    "  print(\"running chain\")\n",
    "  # Run the chain (with burn-in).\n",
    "  states, is_accepted = tfp.mcmc.sample_chain(\n",
    "      num_results=num_results,\n",
    "      num_burnin_steps=num_burnin_steps,\n",
    "      current_state=initial_chain_state,\n",
    "      kernel=adaptive_hmc,\n",
    "    trace_fn=trace_fn)\n",
    "  return states, is_accepted\n",
    "\n",
    "    "
   ]
  },
  {
   "cell_type": "code",
   "execution_count": 8,
   "metadata": {
    "collapsed": true
   },
   "outputs": [],
   "source": [
    "def run_chain_nuts():\n",
    "  print(\"running chain\")\n",
    "  # Run the chain (with burn-in).\n",
    "  states, is_accepted = tfp.mcmc.sample_chain(\n",
    "      num_results=20,\n",
    "      num_burnin_steps=num_burnin_steps,\n",
    "      current_state=initial_chain_state,\n",
    "      kernel=nuts)\n",
    "  return states, is_accepted\n",
    "    "
   ]
  },
  {
   "cell_type": "markdown",
   "metadata": {},
   "source": [
    "## ADVI Stuff starts here"
   ]
  },
  {
   "cell_type": "markdown",
   "metadata": {},
   "source": [
    "### Functions to pass in to summary writer"
   ]
  },
  {
   "cell_type": "code",
   "execution_count": 9,
   "metadata": {
    "collapsed": true
   },
   "outputs": [],
   "source": [
    "def get_ll_from_advi(y_test, x_test, advi, regression_model):\n",
    "    theta_intermediate = advi.sample()\n",
    "    theta_intermediate = tf.squeeze(theta_intermediate)\n",
    "    likelihood = regression_model.log_likelihood(y_test, x_test, theta_intermediate)\n",
    "    return likelihood\n",
    "\n",
    "def get_loss_from_advi(y_test, x_test, advi, regression_model):\n",
    "    theta_intermediate = advi.sample()\n",
    "    theta_intermediate = tf.squeeze(theta_intermediate)\n",
    "    w, _, _ = sep_params(theta_intermediate, num_features)\n",
    "    return regression_model.some_kind_of_loss(y_test, x_test, w)"
   ]
  },
  {
   "cell_type": "code",
   "execution_count": null,
   "metadata": {},
   "outputs": [],
   "source": [
    "def run_advi(nsteps, step_size, dim, log_prob, bijector, m, regression_model):\n",
    "        advi = ADVIModel(dim, log_prob, bijector, m)\n",
    "        for t in range(nsteps):\n",
    "            grad_mu, grad_omega = advi.gradients()\n",
    "            advi.mu = tf.add(advi.mu, step_size * grad_mu)\n",
    "            advi.omega = tf.add(advi.omega, step_size * grad_omega)\n",
    "            tf.summary.scalar('elbo', advi.elbo(), step=t)\n",
    "            tf.summary.scalar('log likelihood', get_ll_from_advi(y_test, x_test, advi, regression_model), step=t)\n",
    "            tf.summary.scalar('loss', get_loss_from_advi(y_test, x_test, advi, regression_model), step=t)\n",
    "            if(t%1 == 0):\n",
    "                theta_intermediate = advi.sample()\n",
    "                theta_intermediate = tf.squeeze(theta_intermediate)\n",
    "                wpred, _, _ = sep_params(theta_intermediate, num_features)\n",
    "                loss = regression_model.some_kind_of_loss(y_test, x_test, wpred)\n",
    "                likelihood = regression_model.log_likelihood(y_test, x_test, theta_intermediate)\n",
    "                elbo_loss = advi.elbo()\n",
    "                print(loss)\n",
    "                print(\"elbo\", elbo_loss)\n",
    "        theta = advi.sample()\n",
    "        return theta"
   ]
  },
  {
   "cell_type": "code",
   "execution_count": null,
   "metadata": {},
   "outputs": [
    {
     "name": "stdout",
     "output_type": "stream",
     "text": [
      "('start likelihood', <tf.Tensor: shape=(), dtype=float64, numpy=-18766.503086894638>)\n",
      "tf.Tensor(5081.81700426972, shape=(), dtype=float64)\n",
      "('elbo', <tf.Tensor: shape=(), dtype=float64, numpy=-1765.1893192715788>)\n",
      "tf.Tensor(3688.803462333918, shape=(), dtype=float64)\n",
      "('elbo', <tf.Tensor: shape=(), dtype=float64, numpy=-1589.7554702404996>)\n",
      "tf.Tensor(3618.2215646902464, shape=(), dtype=float64)\n",
      "('elbo', <tf.Tensor: shape=(), dtype=float64, numpy=-1482.2189695980437>)\n",
      "tf.Tensor(3849.8160960746955, shape=(), dtype=float64)\n",
      "('elbo', <tf.Tensor: shape=(), dtype=float64, numpy=-1422.6827119819106>)\n",
      "tf.Tensor(3491.836383271302, shape=(), dtype=float64)\n",
      "('elbo', <tf.Tensor: shape=(), dtype=float64, numpy=-1387.9205426243077>)\n",
      "tf.Tensor(3883.2313717691673, shape=(), dtype=float64)\n",
      "('elbo', <tf.Tensor: shape=(), dtype=float64, numpy=-1343.7196831155813>)\n",
      "tf.Tensor(3590.0191170226044, shape=(), dtype=float64)\n",
      "('elbo', <tf.Tensor: shape=(), dtype=float64, numpy=-1312.6242808661978>)\n",
      "tf.Tensor(3774.1493831649177, shape=(), dtype=float64)\n",
      "('elbo', <tf.Tensor: shape=(), dtype=float64, numpy=-1281.0996631568312>)\n",
      "tf.Tensor(3042.693373228142, shape=(), dtype=float64)\n",
      "('elbo', <tf.Tensor: shape=(), dtype=float64, numpy=-1273.1850590679476>)\n",
      "tf.Tensor(4211.169405824998, shape=(), dtype=float64)\n",
      "('elbo', <tf.Tensor: shape=(), dtype=float64, numpy=-1229.9046957714247>)\n",
      "tf.Tensor(3595.1894862802696, shape=(), dtype=float64)\n",
      "('elbo', <tf.Tensor: shape=(), dtype=float64, numpy=-1220.280898752742>)\n",
      "tf.Tensor(3366.6014132246128, shape=(), dtype=float64)\n",
      "('elbo', <tf.Tensor: shape=(), dtype=float64, numpy=-1189.5164781502351>)\n",
      "tf.Tensor(3360.32210036291, shape=(), dtype=float64)\n",
      "('elbo', <tf.Tensor: shape=(), dtype=float64, numpy=-1238.8330072973793>)\n",
      "tf.Tensor(4094.054774882809, shape=(), dtype=float64)\n",
      "('elbo', <tf.Tensor: shape=(), dtype=float64, numpy=-1158.939756130869>)\n",
      "tf.Tensor(4256.437270010858, shape=(), dtype=float64)\n",
      "('elbo', <tf.Tensor: shape=(), dtype=float64, numpy=-1181.481674133819>)\n",
      "tf.Tensor(3367.650996072406, shape=(), dtype=float64)\n",
      "('elbo', <tf.Tensor: shape=(), dtype=float64, numpy=-1152.4279340129551>)\n",
      "tf.Tensor(3480.6398769369885, shape=(), dtype=float64)\n",
      "('elbo', <tf.Tensor: shape=(), dtype=float64, numpy=-1166.16469453979>)\n",
      "tf.Tensor(3343.601168214029, shape=(), dtype=float64)\n",
      "('elbo', <tf.Tensor: shape=(), dtype=float64, numpy=-1147.329387208595>)\n",
      "tf.Tensor(4723.368518170861, shape=(), dtype=float64)\n",
      "('elbo', <tf.Tensor: shape=(), dtype=float64, numpy=-1174.9921390159866>)\n",
      "tf.Tensor(4875.020691267636, shape=(), dtype=float64)\n",
      "('elbo', <tf.Tensor: shape=(), dtype=float64, numpy=-1146.0121849399438>)\n",
      "tf.Tensor(3188.587605334155, shape=(), dtype=float64)\n",
      "('elbo', <tf.Tensor: shape=(), dtype=float64, numpy=-1113.53873276541>)\n",
      "tf.Tensor(4009.7033554697905, shape=(), dtype=float64)\n",
      "('elbo', <tf.Tensor: shape=(), dtype=float64, numpy=-1179.650630335416>)\n",
      "tf.Tensor(3833.862964196147, shape=(), dtype=float64)\n",
      "('elbo', <tf.Tensor: shape=(), dtype=float64, numpy=-1148.9296989816658>)\n",
      "tf.Tensor(3864.4666607171393, shape=(), dtype=float64)\n",
      "('elbo', <tf.Tensor: shape=(), dtype=float64, numpy=-1155.8685640170222>)\n",
      "tf.Tensor(4194.271659957298, shape=(), dtype=float64)\n",
      "('elbo', <tf.Tensor: shape=(), dtype=float64, numpy=-1149.2838942921483>)\n",
      "tf.Tensor(3517.3533612536, shape=(), dtype=float64)\n",
      "('elbo', <tf.Tensor: shape=(), dtype=float64, numpy=-1124.8963762147387>)\n",
      "tf.Tensor(4251.023422764189, shape=(), dtype=float64)\n",
      "('elbo', <tf.Tensor: shape=(), dtype=float64, numpy=-1120.8015118409512>)\n",
      "tf.Tensor(3667.1921368049943, shape=(), dtype=float64)\n",
      "('elbo', <tf.Tensor: shape=(), dtype=float64, numpy=-1120.8002236760872>)\n",
      "tf.Tensor(4102.715418284255, shape=(), dtype=float64)\n",
      "('elbo', <tf.Tensor: shape=(), dtype=float64, numpy=-1126.752503293034>)\n",
      "tf.Tensor(3906.7972705232132, shape=(), dtype=float64)\n",
      "('elbo', <tf.Tensor: shape=(), dtype=float64, numpy=-1120.8974656923579>)\n"
     ]
    }
   ],
   "source": [
    "# looking at starting weights\n",
    "start_w, _, _ = sep_params(initial_chain_state, num_features)\n",
    "# looking at starting model\n",
    "start_likelihood = model.log_likelihood(y_test, x_test, initial_chain_state)\n",
    "print(\"start likelihood\", start_likelihood)\n",
    "# target function \n",
    "joint_log_prob2 = lambda *args: model.joint_log_prob(y_train, x_train, *args)\n",
    "bij = tfp.bijectors.Log()\n",
    "num_results = 10000\n",
    "step_size = 0.001\n",
    "# run the advi\n",
    "with summary_writer.as_default():\n",
    "    theta = run_advi(num_results,\n",
    "                     step_size,\n",
    "                     model.num_params,\n",
    "                     joint_log_prob2,\n",
    "                     bij,\n",
    "                     10, model)\n"
   ]
  },
  {
   "cell_type": "code",
   "execution_count": null,
   "metadata": {},
   "outputs": [],
   "source": [
    "start_loss = state_to_loss(initial_chain_state, y_test, x_test)\n",
    "print(\"start loss\", start_loss)\n",
    "print(\"theta\", theta.shape)\n",
    "theta = tf.squeeze(theta)\n",
    "w, _, _ = sep_params(theta, num_features)\n",
    "loss = model.some_kind_of_loss(y_test, x_test, w)\n",
    "\n",
    "print(\"loss\", loss)\n",
    "\n"
   ]
  },
  {
   "cell_type": "code",
   "execution_count": null,
   "metadata": {},
   "outputs": [],
   "source": [
    "initial_chain_state = return_initial_state(num_features)\n",
    "sample_mean = tf.reduce_mean(states, axis=[0])\n",
    "wend, alpha, tau = sep_params(sample_mean, num_features)\n",
    "\n",
    "print(\"start\", wstart)\n",
    "loss_start = some_kind_of_loss(wstarty_test, x_test, )\n",
    "print(\"loss start\", loss_start)\n",
    "\n",
    "print(\"actual\",w)\n",
    "print(\"end\", wend)\n",
    "print(\"start\", wstart)\n",
    "loss_end = some_kind_of_loss(wend,y_test, x_test, )\n",
    "print(\"loss start\", loss_start)\n",
    "print(\"loss end\", loss_end)\n"
   ]
  },
  {
   "cell_type": "code",
   "execution_count": null,
   "metadata": {},
   "outputs": [],
   "source": [
    "sample_mean = tf.reduce_mean(states, axis=[0])\n",
    "wend, alpha, tau = sep_params(sample_mean, num_features)\n",
    "\n"
   ]
  }
 ],
 "metadata": {
  "kernelspec": {
   "display_name": "Python 2",
   "language": "python",
   "name": "python2"
  },
  "language_info": {
   "codemirror_mode": {
    "name": "ipython",
    "version": 2
   },
   "file_extension": ".py",
   "mimetype": "text/x-python",
   "name": "python",
   "nbconvert_exporter": "python",
   "pygments_lexer": "ipython2",
   "version": "2.7.13"
  }
 },
 "nbformat": 4,
 "nbformat_minor": 4
}
